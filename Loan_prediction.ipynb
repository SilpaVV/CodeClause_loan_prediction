{
  "nbformat": 4,
  "nbformat_minor": 0,
  "metadata": {
    "colab": {
      "provenance": []
    },
    "kernelspec": {
      "name": "python3",
      "display_name": "Python 3"
    },
    "language_info": {
      "name": "python"
    }
  },
  "cells": [
    {
      "cell_type": "markdown",
      "source": [
        "# **LOAN PREDICTION**"
      ],
      "metadata": {
        "id": "9bU4tt34DVwH"
      }
    },
    {
      "cell_type": "code",
      "execution_count": 445,
      "metadata": {
        "id": "izgApSHOn9iX"
      },
      "outputs": [],
      "source": [
        "#Importing Libraries\n",
        "import pandas as pd\n",
        "import numpy as np\n",
        "import matplotlib.pyplot as plt\n",
        "%matplotlib inline\n"
      ]
    },
    {
      "cell_type": "code",
      "source": [
        "data=pd.read_csv(\"/content/train_u6lujuX_CVtuZ9i.csv\")"
      ],
      "metadata": {
        "id": "AQ26J4YuD8nd"
      },
      "execution_count": 446,
      "outputs": []
    },
    {
      "cell_type": "markdown",
      "source": [
        "# **Data Preprocessing**"
      ],
      "metadata": {
        "id": "iKGsh_CRHcjT"
      }
    },
    {
      "cell_type": "code",
      "source": [
        "data.head()"
      ],
      "metadata": {
        "colab": {
          "base_uri": "https://localhost:8080/",
          "height": 287
        },
        "id": "9rCyDySuGwUC",
        "outputId": "d6e15caa-daac-490d-8dcc-6d1c52dd166c"
      },
      "execution_count": 447,
      "outputs": [
        {
          "output_type": "execute_result",
          "data": {
            "text/plain": [
              "    Loan_ID Gender Married Dependents     Education Self_Employed  \\\n",
              "0  LP001002   Male      No          0      Graduate            No   \n",
              "1  LP001003   Male     Yes          1      Graduate            No   \n",
              "2  LP001005   Male     Yes          0      Graduate           Yes   \n",
              "3  LP001006   Male     Yes          0  Not Graduate            No   \n",
              "4  LP001008   Male      No          0      Graduate            No   \n",
              "\n",
              "   ApplicantIncome  CoapplicantIncome  LoanAmount  Loan_Amount_Term  \\\n",
              "0             5849                0.0         NaN             360.0   \n",
              "1             4583             1508.0       128.0             360.0   \n",
              "2             3000                0.0        66.0             360.0   \n",
              "3             2583             2358.0       120.0             360.0   \n",
              "4             6000                0.0       141.0             360.0   \n",
              "\n",
              "   Credit_History Property_Area Loan_Status  \n",
              "0             1.0         Urban           Y  \n",
              "1             1.0         Rural           N  \n",
              "2             1.0         Urban           Y  \n",
              "3             1.0         Urban           Y  \n",
              "4             1.0         Urban           Y  "
            ],
            "text/html": [
              "\n",
              "\n",
              "  <div id=\"df-6db499a6-6a65-4d94-875b-2ccdc1b9bf6d\">\n",
              "    <div class=\"colab-df-container\">\n",
              "      <div>\n",
              "<style scoped>\n",
              "    .dataframe tbody tr th:only-of-type {\n",
              "        vertical-align: middle;\n",
              "    }\n",
              "\n",
              "    .dataframe tbody tr th {\n",
              "        vertical-align: top;\n",
              "    }\n",
              "\n",
              "    .dataframe thead th {\n",
              "        text-align: right;\n",
              "    }\n",
              "</style>\n",
              "<table border=\"1\" class=\"dataframe\">\n",
              "  <thead>\n",
              "    <tr style=\"text-align: right;\">\n",
              "      <th></th>\n",
              "      <th>Loan_ID</th>\n",
              "      <th>Gender</th>\n",
              "      <th>Married</th>\n",
              "      <th>Dependents</th>\n",
              "      <th>Education</th>\n",
              "      <th>Self_Employed</th>\n",
              "      <th>ApplicantIncome</th>\n",
              "      <th>CoapplicantIncome</th>\n",
              "      <th>LoanAmount</th>\n",
              "      <th>Loan_Amount_Term</th>\n",
              "      <th>Credit_History</th>\n",
              "      <th>Property_Area</th>\n",
              "      <th>Loan_Status</th>\n",
              "    </tr>\n",
              "  </thead>\n",
              "  <tbody>\n",
              "    <tr>\n",
              "      <th>0</th>\n",
              "      <td>LP001002</td>\n",
              "      <td>Male</td>\n",
              "      <td>No</td>\n",
              "      <td>0</td>\n",
              "      <td>Graduate</td>\n",
              "      <td>No</td>\n",
              "      <td>5849</td>\n",
              "      <td>0.0</td>\n",
              "      <td>NaN</td>\n",
              "      <td>360.0</td>\n",
              "      <td>1.0</td>\n",
              "      <td>Urban</td>\n",
              "      <td>Y</td>\n",
              "    </tr>\n",
              "    <tr>\n",
              "      <th>1</th>\n",
              "      <td>LP001003</td>\n",
              "      <td>Male</td>\n",
              "      <td>Yes</td>\n",
              "      <td>1</td>\n",
              "      <td>Graduate</td>\n",
              "      <td>No</td>\n",
              "      <td>4583</td>\n",
              "      <td>1508.0</td>\n",
              "      <td>128.0</td>\n",
              "      <td>360.0</td>\n",
              "      <td>1.0</td>\n",
              "      <td>Rural</td>\n",
              "      <td>N</td>\n",
              "    </tr>\n",
              "    <tr>\n",
              "      <th>2</th>\n",
              "      <td>LP001005</td>\n",
              "      <td>Male</td>\n",
              "      <td>Yes</td>\n",
              "      <td>0</td>\n",
              "      <td>Graduate</td>\n",
              "      <td>Yes</td>\n",
              "      <td>3000</td>\n",
              "      <td>0.0</td>\n",
              "      <td>66.0</td>\n",
              "      <td>360.0</td>\n",
              "      <td>1.0</td>\n",
              "      <td>Urban</td>\n",
              "      <td>Y</td>\n",
              "    </tr>\n",
              "    <tr>\n",
              "      <th>3</th>\n",
              "      <td>LP001006</td>\n",
              "      <td>Male</td>\n",
              "      <td>Yes</td>\n",
              "      <td>0</td>\n",
              "      <td>Not Graduate</td>\n",
              "      <td>No</td>\n",
              "      <td>2583</td>\n",
              "      <td>2358.0</td>\n",
              "      <td>120.0</td>\n",
              "      <td>360.0</td>\n",
              "      <td>1.0</td>\n",
              "      <td>Urban</td>\n",
              "      <td>Y</td>\n",
              "    </tr>\n",
              "    <tr>\n",
              "      <th>4</th>\n",
              "      <td>LP001008</td>\n",
              "      <td>Male</td>\n",
              "      <td>No</td>\n",
              "      <td>0</td>\n",
              "      <td>Graduate</td>\n",
              "      <td>No</td>\n",
              "      <td>6000</td>\n",
              "      <td>0.0</td>\n",
              "      <td>141.0</td>\n",
              "      <td>360.0</td>\n",
              "      <td>1.0</td>\n",
              "      <td>Urban</td>\n",
              "      <td>Y</td>\n",
              "    </tr>\n",
              "  </tbody>\n",
              "</table>\n",
              "</div>\n",
              "      <button class=\"colab-df-convert\" onclick=\"convertToInteractive('df-6db499a6-6a65-4d94-875b-2ccdc1b9bf6d')\"\n",
              "              title=\"Convert this dataframe to an interactive table.\"\n",
              "              style=\"display:none;\">\n",
              "\n",
              "  <svg xmlns=\"http://www.w3.org/2000/svg\" height=\"24px\"viewBox=\"0 0 24 24\"\n",
              "       width=\"24px\">\n",
              "    <path d=\"M0 0h24v24H0V0z\" fill=\"none\"/>\n",
              "    <path d=\"M18.56 5.44l.94 2.06.94-2.06 2.06-.94-2.06-.94-.94-2.06-.94 2.06-2.06.94zm-11 1L8.5 8.5l.94-2.06 2.06-.94-2.06-.94L8.5 2.5l-.94 2.06-2.06.94zm10 10l.94 2.06.94-2.06 2.06-.94-2.06-.94-.94-2.06-.94 2.06-2.06.94z\"/><path d=\"M17.41 7.96l-1.37-1.37c-.4-.4-.92-.59-1.43-.59-.52 0-1.04.2-1.43.59L10.3 9.45l-7.72 7.72c-.78.78-.78 2.05 0 2.83L4 21.41c.39.39.9.59 1.41.59.51 0 1.02-.2 1.41-.59l7.78-7.78 2.81-2.81c.8-.78.8-2.07 0-2.86zM5.41 20L4 18.59l7.72-7.72 1.47 1.35L5.41 20z\"/>\n",
              "  </svg>\n",
              "      </button>\n",
              "\n",
              "\n",
              "\n",
              "    <div id=\"df-97e2e6e5-b088-4ef3-855d-9427f4577f80\">\n",
              "      <button class=\"colab-df-quickchart\" onclick=\"quickchart('df-97e2e6e5-b088-4ef3-855d-9427f4577f80')\"\n",
              "              title=\"Suggest charts.\"\n",
              "              style=\"display:none;\">\n",
              "\n",
              "<svg xmlns=\"http://www.w3.org/2000/svg\" height=\"24px\"viewBox=\"0 0 24 24\"\n",
              "     width=\"24px\">\n",
              "    <g>\n",
              "        <path d=\"M19 3H5c-1.1 0-2 .9-2 2v14c0 1.1.9 2 2 2h14c1.1 0 2-.9 2-2V5c0-1.1-.9-2-2-2zM9 17H7v-7h2v7zm4 0h-2V7h2v10zm4 0h-2v-4h2v4z\"/>\n",
              "    </g>\n",
              "</svg>\n",
              "      </button>\n",
              "    </div>\n",
              "\n",
              "<style>\n",
              "  .colab-df-quickchart {\n",
              "    background-color: #E8F0FE;\n",
              "    border: none;\n",
              "    border-radius: 50%;\n",
              "    cursor: pointer;\n",
              "    display: none;\n",
              "    fill: #1967D2;\n",
              "    height: 32px;\n",
              "    padding: 0 0 0 0;\n",
              "    width: 32px;\n",
              "  }\n",
              "\n",
              "  .colab-df-quickchart:hover {\n",
              "    background-color: #E2EBFA;\n",
              "    box-shadow: 0px 1px 2px rgba(60, 64, 67, 0.3), 0px 1px 3px 1px rgba(60, 64, 67, 0.15);\n",
              "    fill: #174EA6;\n",
              "  }\n",
              "\n",
              "  [theme=dark] .colab-df-quickchart {\n",
              "    background-color: #3B4455;\n",
              "    fill: #D2E3FC;\n",
              "  }\n",
              "\n",
              "  [theme=dark] .colab-df-quickchart:hover {\n",
              "    background-color: #434B5C;\n",
              "    box-shadow: 0px 1px 3px 1px rgba(0, 0, 0, 0.15);\n",
              "    filter: drop-shadow(0px 1px 2px rgba(0, 0, 0, 0.3));\n",
              "    fill: #FFFFFF;\n",
              "  }\n",
              "</style>\n",
              "\n",
              "    <script>\n",
              "      async function quickchart(key) {\n",
              "        const containerElement = document.querySelector('#' + key);\n",
              "        const charts = await google.colab.kernel.invokeFunction(\n",
              "            'suggestCharts', [key], {});\n",
              "      }\n",
              "    </script>\n",
              "\n",
              "      <script>\n",
              "\n",
              "function displayQuickchartButton(domScope) {\n",
              "  let quickchartButtonEl =\n",
              "    domScope.querySelector('#df-97e2e6e5-b088-4ef3-855d-9427f4577f80 button.colab-df-quickchart');\n",
              "  quickchartButtonEl.style.display =\n",
              "    google.colab.kernel.accessAllowed ? 'block' : 'none';\n",
              "}\n",
              "\n",
              "        displayQuickchartButton(document);\n",
              "      </script>\n",
              "      <style>\n",
              "    .colab-df-container {\n",
              "      display:flex;\n",
              "      flex-wrap:wrap;\n",
              "      gap: 12px;\n",
              "    }\n",
              "\n",
              "    .colab-df-convert {\n",
              "      background-color: #E8F0FE;\n",
              "      border: none;\n",
              "      border-radius: 50%;\n",
              "      cursor: pointer;\n",
              "      display: none;\n",
              "      fill: #1967D2;\n",
              "      height: 32px;\n",
              "      padding: 0 0 0 0;\n",
              "      width: 32px;\n",
              "    }\n",
              "\n",
              "    .colab-df-convert:hover {\n",
              "      background-color: #E2EBFA;\n",
              "      box-shadow: 0px 1px 2px rgba(60, 64, 67, 0.3), 0px 1px 3px 1px rgba(60, 64, 67, 0.15);\n",
              "      fill: #174EA6;\n",
              "    }\n",
              "\n",
              "    [theme=dark] .colab-df-convert {\n",
              "      background-color: #3B4455;\n",
              "      fill: #D2E3FC;\n",
              "    }\n",
              "\n",
              "    [theme=dark] .colab-df-convert:hover {\n",
              "      background-color: #434B5C;\n",
              "      box-shadow: 0px 1px 3px 1px rgba(0, 0, 0, 0.15);\n",
              "      filter: drop-shadow(0px 1px 2px rgba(0, 0, 0, 0.3));\n",
              "      fill: #FFFFFF;\n",
              "    }\n",
              "  </style>\n",
              "\n",
              "      <script>\n",
              "        const buttonEl =\n",
              "          document.querySelector('#df-6db499a6-6a65-4d94-875b-2ccdc1b9bf6d button.colab-df-convert');\n",
              "        buttonEl.style.display =\n",
              "          google.colab.kernel.accessAllowed ? 'block' : 'none';\n",
              "\n",
              "        async function convertToInteractive(key) {\n",
              "          const element = document.querySelector('#df-6db499a6-6a65-4d94-875b-2ccdc1b9bf6d');\n",
              "          const dataTable =\n",
              "            await google.colab.kernel.invokeFunction('convertToInteractive',\n",
              "                                                     [key], {});\n",
              "          if (!dataTable) return;\n",
              "\n",
              "          const docLinkHtml = 'Like what you see? Visit the ' +\n",
              "            '<a target=\"_blank\" href=https://colab.research.google.com/notebooks/data_table.ipynb>data table notebook</a>'\n",
              "            + ' to learn more about interactive tables.';\n",
              "          element.innerHTML = '';\n",
              "          dataTable['output_type'] = 'display_data';\n",
              "          await google.colab.output.renderOutput(dataTable, element);\n",
              "          const docLink = document.createElement('div');\n",
              "          docLink.innerHTML = docLinkHtml;\n",
              "          element.appendChild(docLink);\n",
              "        }\n",
              "      </script>\n",
              "    </div>\n",
              "  </div>\n"
            ]
          },
          "metadata": {},
          "execution_count": 447
        }
      ]
    },
    {
      "cell_type": "code",
      "source": [
        "data.shape"
      ],
      "metadata": {
        "colab": {
          "base_uri": "https://localhost:8080/"
        },
        "id": "KnTZveTPG3Im",
        "outputId": "e835844e-cfac-4cc0-8d1c-e86f9e3e369e"
      },
      "execution_count": 448,
      "outputs": [
        {
          "output_type": "execute_result",
          "data": {
            "text/plain": [
              "(614, 13)"
            ]
          },
          "metadata": {},
          "execution_count": 448
        }
      ]
    },
    {
      "cell_type": "code",
      "source": [
        "data.columns"
      ],
      "metadata": {
        "colab": {
          "base_uri": "https://localhost:8080/"
        },
        "id": "haanCg-mG4hb",
        "outputId": "3ea9e8cf-d41a-4f0d-d24b-fdebbcabacfb"
      },
      "execution_count": 449,
      "outputs": [
        {
          "output_type": "execute_result",
          "data": {
            "text/plain": [
              "Index(['Loan_ID', 'Gender', 'Married', 'Dependents', 'Education',\n",
              "       'Self_Employed', 'ApplicantIncome', 'CoapplicantIncome', 'LoanAmount',\n",
              "       'Loan_Amount_Term', 'Credit_History', 'Property_Area', 'Loan_Status'],\n",
              "      dtype='object')"
            ]
          },
          "metadata": {},
          "execution_count": 449
        }
      ]
    },
    {
      "cell_type": "code",
      "source": [
        "data.dtypes\n"
      ],
      "metadata": {
        "colab": {
          "base_uri": "https://localhost:8080/"
        },
        "id": "ODWHdUqeHD7H",
        "outputId": "3fc8a02f-0156-4f7c-ae0d-b31b36a9351e"
      },
      "execution_count": 450,
      "outputs": [
        {
          "output_type": "execute_result",
          "data": {
            "text/plain": [
              "Loan_ID               object\n",
              "Gender                object\n",
              "Married               object\n",
              "Dependents            object\n",
              "Education             object\n",
              "Self_Employed         object\n",
              "ApplicantIncome        int64\n",
              "CoapplicantIncome    float64\n",
              "LoanAmount           float64\n",
              "Loan_Amount_Term     float64\n",
              "Credit_History       float64\n",
              "Property_Area         object\n",
              "Loan_Status           object\n",
              "dtype: object"
            ]
          },
          "metadata": {},
          "execution_count": 450
        }
      ]
    },
    {
      "cell_type": "code",
      "source": [
        "data.info()"
      ],
      "metadata": {
        "colab": {
          "base_uri": "https://localhost:8080/"
        },
        "id": "zH3YvnvlHUib",
        "outputId": "2cfdc6a2-7df5-4caa-8e4e-522fd5c52713"
      },
      "execution_count": 451,
      "outputs": [
        {
          "output_type": "stream",
          "name": "stdout",
          "text": [
            "<class 'pandas.core.frame.DataFrame'>\n",
            "RangeIndex: 614 entries, 0 to 613\n",
            "Data columns (total 13 columns):\n",
            " #   Column             Non-Null Count  Dtype  \n",
            "---  ------             --------------  -----  \n",
            " 0   Loan_ID            614 non-null    object \n",
            " 1   Gender             601 non-null    object \n",
            " 2   Married            611 non-null    object \n",
            " 3   Dependents         599 non-null    object \n",
            " 4   Education          614 non-null    object \n",
            " 5   Self_Employed      582 non-null    object \n",
            " 6   ApplicantIncome    614 non-null    int64  \n",
            " 7   CoapplicantIncome  614 non-null    float64\n",
            " 8   LoanAmount         592 non-null    float64\n",
            " 9   Loan_Amount_Term   600 non-null    float64\n",
            " 10  Credit_History     564 non-null    float64\n",
            " 11  Property_Area      614 non-null    object \n",
            " 12  Loan_Status        614 non-null    object \n",
            "dtypes: float64(4), int64(1), object(8)\n",
            "memory usage: 62.5+ KB\n"
          ]
        }
      ]
    },
    {
      "cell_type": "code",
      "source": [
        "data.describe()"
      ],
      "metadata": {
        "colab": {
          "base_uri": "https://localhost:8080/",
          "height": 300
        },
        "id": "TbNCVUmdHhxV",
        "outputId": "b1e0b604-b014-4a90-a376-ec1cf254d672"
      },
      "execution_count": 452,
      "outputs": [
        {
          "output_type": "execute_result",
          "data": {
            "text/plain": [
              "       ApplicantIncome  CoapplicantIncome  LoanAmount  Loan_Amount_Term  \\\n",
              "count       614.000000         614.000000  592.000000         600.00000   \n",
              "mean       5403.459283        1621.245798  146.412162         342.00000   \n",
              "std        6109.041673        2926.248369   85.587325          65.12041   \n",
              "min         150.000000           0.000000    9.000000          12.00000   \n",
              "25%        2877.500000           0.000000  100.000000         360.00000   \n",
              "50%        3812.500000        1188.500000  128.000000         360.00000   \n",
              "75%        5795.000000        2297.250000  168.000000         360.00000   \n",
              "max       81000.000000       41667.000000  700.000000         480.00000   \n",
              "\n",
              "       Credit_History  \n",
              "count      564.000000  \n",
              "mean         0.842199  \n",
              "std          0.364878  \n",
              "min          0.000000  \n",
              "25%          1.000000  \n",
              "50%          1.000000  \n",
              "75%          1.000000  \n",
              "max          1.000000  "
            ],
            "text/html": [
              "\n",
              "\n",
              "  <div id=\"df-e067e4dc-dbfe-419d-84b5-de1d6b44d8dc\">\n",
              "    <div class=\"colab-df-container\">\n",
              "      <div>\n",
              "<style scoped>\n",
              "    .dataframe tbody tr th:only-of-type {\n",
              "        vertical-align: middle;\n",
              "    }\n",
              "\n",
              "    .dataframe tbody tr th {\n",
              "        vertical-align: top;\n",
              "    }\n",
              "\n",
              "    .dataframe thead th {\n",
              "        text-align: right;\n",
              "    }\n",
              "</style>\n",
              "<table border=\"1\" class=\"dataframe\">\n",
              "  <thead>\n",
              "    <tr style=\"text-align: right;\">\n",
              "      <th></th>\n",
              "      <th>ApplicantIncome</th>\n",
              "      <th>CoapplicantIncome</th>\n",
              "      <th>LoanAmount</th>\n",
              "      <th>Loan_Amount_Term</th>\n",
              "      <th>Credit_History</th>\n",
              "    </tr>\n",
              "  </thead>\n",
              "  <tbody>\n",
              "    <tr>\n",
              "      <th>count</th>\n",
              "      <td>614.000000</td>\n",
              "      <td>614.000000</td>\n",
              "      <td>592.000000</td>\n",
              "      <td>600.00000</td>\n",
              "      <td>564.000000</td>\n",
              "    </tr>\n",
              "    <tr>\n",
              "      <th>mean</th>\n",
              "      <td>5403.459283</td>\n",
              "      <td>1621.245798</td>\n",
              "      <td>146.412162</td>\n",
              "      <td>342.00000</td>\n",
              "      <td>0.842199</td>\n",
              "    </tr>\n",
              "    <tr>\n",
              "      <th>std</th>\n",
              "      <td>6109.041673</td>\n",
              "      <td>2926.248369</td>\n",
              "      <td>85.587325</td>\n",
              "      <td>65.12041</td>\n",
              "      <td>0.364878</td>\n",
              "    </tr>\n",
              "    <tr>\n",
              "      <th>min</th>\n",
              "      <td>150.000000</td>\n",
              "      <td>0.000000</td>\n",
              "      <td>9.000000</td>\n",
              "      <td>12.00000</td>\n",
              "      <td>0.000000</td>\n",
              "    </tr>\n",
              "    <tr>\n",
              "      <th>25%</th>\n",
              "      <td>2877.500000</td>\n",
              "      <td>0.000000</td>\n",
              "      <td>100.000000</td>\n",
              "      <td>360.00000</td>\n",
              "      <td>1.000000</td>\n",
              "    </tr>\n",
              "    <tr>\n",
              "      <th>50%</th>\n",
              "      <td>3812.500000</td>\n",
              "      <td>1188.500000</td>\n",
              "      <td>128.000000</td>\n",
              "      <td>360.00000</td>\n",
              "      <td>1.000000</td>\n",
              "    </tr>\n",
              "    <tr>\n",
              "      <th>75%</th>\n",
              "      <td>5795.000000</td>\n",
              "      <td>2297.250000</td>\n",
              "      <td>168.000000</td>\n",
              "      <td>360.00000</td>\n",
              "      <td>1.000000</td>\n",
              "    </tr>\n",
              "    <tr>\n",
              "      <th>max</th>\n",
              "      <td>81000.000000</td>\n",
              "      <td>41667.000000</td>\n",
              "      <td>700.000000</td>\n",
              "      <td>480.00000</td>\n",
              "      <td>1.000000</td>\n",
              "    </tr>\n",
              "  </tbody>\n",
              "</table>\n",
              "</div>\n",
              "      <button class=\"colab-df-convert\" onclick=\"convertToInteractive('df-e067e4dc-dbfe-419d-84b5-de1d6b44d8dc')\"\n",
              "              title=\"Convert this dataframe to an interactive table.\"\n",
              "              style=\"display:none;\">\n",
              "\n",
              "  <svg xmlns=\"http://www.w3.org/2000/svg\" height=\"24px\"viewBox=\"0 0 24 24\"\n",
              "       width=\"24px\">\n",
              "    <path d=\"M0 0h24v24H0V0z\" fill=\"none\"/>\n",
              "    <path d=\"M18.56 5.44l.94 2.06.94-2.06 2.06-.94-2.06-.94-.94-2.06-.94 2.06-2.06.94zm-11 1L8.5 8.5l.94-2.06 2.06-.94-2.06-.94L8.5 2.5l-.94 2.06-2.06.94zm10 10l.94 2.06.94-2.06 2.06-.94-2.06-.94-.94-2.06-.94 2.06-2.06.94z\"/><path d=\"M17.41 7.96l-1.37-1.37c-.4-.4-.92-.59-1.43-.59-.52 0-1.04.2-1.43.59L10.3 9.45l-7.72 7.72c-.78.78-.78 2.05 0 2.83L4 21.41c.39.39.9.59 1.41.59.51 0 1.02-.2 1.41-.59l7.78-7.78 2.81-2.81c.8-.78.8-2.07 0-2.86zM5.41 20L4 18.59l7.72-7.72 1.47 1.35L5.41 20z\"/>\n",
              "  </svg>\n",
              "      </button>\n",
              "\n",
              "\n",
              "\n",
              "    <div id=\"df-a01dd044-971c-43c3-8361-8a4841e16527\">\n",
              "      <button class=\"colab-df-quickchart\" onclick=\"quickchart('df-a01dd044-971c-43c3-8361-8a4841e16527')\"\n",
              "              title=\"Suggest charts.\"\n",
              "              style=\"display:none;\">\n",
              "\n",
              "<svg xmlns=\"http://www.w3.org/2000/svg\" height=\"24px\"viewBox=\"0 0 24 24\"\n",
              "     width=\"24px\">\n",
              "    <g>\n",
              "        <path d=\"M19 3H5c-1.1 0-2 .9-2 2v14c0 1.1.9 2 2 2h14c1.1 0 2-.9 2-2V5c0-1.1-.9-2-2-2zM9 17H7v-7h2v7zm4 0h-2V7h2v10zm4 0h-2v-4h2v4z\"/>\n",
              "    </g>\n",
              "</svg>\n",
              "      </button>\n",
              "    </div>\n",
              "\n",
              "<style>\n",
              "  .colab-df-quickchart {\n",
              "    background-color: #E8F0FE;\n",
              "    border: none;\n",
              "    border-radius: 50%;\n",
              "    cursor: pointer;\n",
              "    display: none;\n",
              "    fill: #1967D2;\n",
              "    height: 32px;\n",
              "    padding: 0 0 0 0;\n",
              "    width: 32px;\n",
              "  }\n",
              "\n",
              "  .colab-df-quickchart:hover {\n",
              "    background-color: #E2EBFA;\n",
              "    box-shadow: 0px 1px 2px rgba(60, 64, 67, 0.3), 0px 1px 3px 1px rgba(60, 64, 67, 0.15);\n",
              "    fill: #174EA6;\n",
              "  }\n",
              "\n",
              "  [theme=dark] .colab-df-quickchart {\n",
              "    background-color: #3B4455;\n",
              "    fill: #D2E3FC;\n",
              "  }\n",
              "\n",
              "  [theme=dark] .colab-df-quickchart:hover {\n",
              "    background-color: #434B5C;\n",
              "    box-shadow: 0px 1px 3px 1px rgba(0, 0, 0, 0.15);\n",
              "    filter: drop-shadow(0px 1px 2px rgba(0, 0, 0, 0.3));\n",
              "    fill: #FFFFFF;\n",
              "  }\n",
              "</style>\n",
              "\n",
              "    <script>\n",
              "      async function quickchart(key) {\n",
              "        const containerElement = document.querySelector('#' + key);\n",
              "        const charts = await google.colab.kernel.invokeFunction(\n",
              "            'suggestCharts', [key], {});\n",
              "      }\n",
              "    </script>\n",
              "\n",
              "      <script>\n",
              "\n",
              "function displayQuickchartButton(domScope) {\n",
              "  let quickchartButtonEl =\n",
              "    domScope.querySelector('#df-a01dd044-971c-43c3-8361-8a4841e16527 button.colab-df-quickchart');\n",
              "  quickchartButtonEl.style.display =\n",
              "    google.colab.kernel.accessAllowed ? 'block' : 'none';\n",
              "}\n",
              "\n",
              "        displayQuickchartButton(document);\n",
              "      </script>\n",
              "      <style>\n",
              "    .colab-df-container {\n",
              "      display:flex;\n",
              "      flex-wrap:wrap;\n",
              "      gap: 12px;\n",
              "    }\n",
              "\n",
              "    .colab-df-convert {\n",
              "      background-color: #E8F0FE;\n",
              "      border: none;\n",
              "      border-radius: 50%;\n",
              "      cursor: pointer;\n",
              "      display: none;\n",
              "      fill: #1967D2;\n",
              "      height: 32px;\n",
              "      padding: 0 0 0 0;\n",
              "      width: 32px;\n",
              "    }\n",
              "\n",
              "    .colab-df-convert:hover {\n",
              "      background-color: #E2EBFA;\n",
              "      box-shadow: 0px 1px 2px rgba(60, 64, 67, 0.3), 0px 1px 3px 1px rgba(60, 64, 67, 0.15);\n",
              "      fill: #174EA6;\n",
              "    }\n",
              "\n",
              "    [theme=dark] .colab-df-convert {\n",
              "      background-color: #3B4455;\n",
              "      fill: #D2E3FC;\n",
              "    }\n",
              "\n",
              "    [theme=dark] .colab-df-convert:hover {\n",
              "      background-color: #434B5C;\n",
              "      box-shadow: 0px 1px 3px 1px rgba(0, 0, 0, 0.15);\n",
              "      filter: drop-shadow(0px 1px 2px rgba(0, 0, 0, 0.3));\n",
              "      fill: #FFFFFF;\n",
              "    }\n",
              "  </style>\n",
              "\n",
              "      <script>\n",
              "        const buttonEl =\n",
              "          document.querySelector('#df-e067e4dc-dbfe-419d-84b5-de1d6b44d8dc button.colab-df-convert');\n",
              "        buttonEl.style.display =\n",
              "          google.colab.kernel.accessAllowed ? 'block' : 'none';\n",
              "\n",
              "        async function convertToInteractive(key) {\n",
              "          const element = document.querySelector('#df-e067e4dc-dbfe-419d-84b5-de1d6b44d8dc');\n",
              "          const dataTable =\n",
              "            await google.colab.kernel.invokeFunction('convertToInteractive',\n",
              "                                                     [key], {});\n",
              "          if (!dataTable) return;\n",
              "\n",
              "          const docLinkHtml = 'Like what you see? Visit the ' +\n",
              "            '<a target=\"_blank\" href=https://colab.research.google.com/notebooks/data_table.ipynb>data table notebook</a>'\n",
              "            + ' to learn more about interactive tables.';\n",
              "          element.innerHTML = '';\n",
              "          dataTable['output_type'] = 'display_data';\n",
              "          await google.colab.output.renderOutput(dataTable, element);\n",
              "          const docLink = document.createElement('div');\n",
              "          docLink.innerHTML = docLinkHtml;\n",
              "          element.appendChild(docLink);\n",
              "        }\n",
              "      </script>\n",
              "    </div>\n",
              "  </div>\n"
            ]
          },
          "metadata": {},
          "execution_count": 452
        }
      ]
    },
    {
      "cell_type": "markdown",
      "source": [
        "**WORKING ON MISSING DATA**"
      ],
      "metadata": {
        "id": "Xb6PcLHdQIqR"
      }
    },
    {
      "cell_type": "code",
      "source": [
        "data.isnull().sum()"
      ],
      "metadata": {
        "colab": {
          "base_uri": "https://localhost:8080/"
        },
        "id": "0dWQP-HkHqQq",
        "outputId": "f2887594-d273-40ea-963c-d9827f8cf618"
      },
      "execution_count": 453,
      "outputs": [
        {
          "output_type": "execute_result",
          "data": {
            "text/plain": [
              "Loan_ID               0\n",
              "Gender               13\n",
              "Married               3\n",
              "Dependents           15\n",
              "Education             0\n",
              "Self_Employed        32\n",
              "ApplicantIncome       0\n",
              "CoapplicantIncome     0\n",
              "LoanAmount           22\n",
              "Loan_Amount_Term     14\n",
              "Credit_History       50\n",
              "Property_Area         0\n",
              "Loan_Status           0\n",
              "dtype: int64"
            ]
          },
          "metadata": {},
          "execution_count": 453
        }
      ]
    },
    {
      "cell_type": "code",
      "source": [
        "data[\"Gender\"].fillna(data[\"Gender\"].mode()[0],inplace=True)\n",
        "data[\"Married\"].fillna(data[\"Married\"].mode()[0],inplace=True)\n",
        "data[\"Dependents\"].fillna(data[\"Dependents\"].mode()[0],inplace=True)\n",
        "\n",
        "\n",
        "\n"
      ],
      "metadata": {
        "id": "ZHFQtAOaJ9Of"
      },
      "execution_count": 454,
      "outputs": []
    },
    {
      "cell_type": "code",
      "source": [
        "data.isnull().sum()"
      ],
      "metadata": {
        "colab": {
          "base_uri": "https://localhost:8080/"
        },
        "id": "sqdShW-SeL4Z",
        "outputId": "1b598d3d-c7b3-4d53-a471-5d3fea184a53"
      },
      "execution_count": 455,
      "outputs": [
        {
          "output_type": "execute_result",
          "data": {
            "text/plain": [
              "Loan_ID               0\n",
              "Gender                0\n",
              "Married               0\n",
              "Dependents            0\n",
              "Education             0\n",
              "Self_Employed        32\n",
              "ApplicantIncome       0\n",
              "CoapplicantIncome     0\n",
              "LoanAmount           22\n",
              "Loan_Amount_Term     14\n",
              "Credit_History       50\n",
              "Property_Area         0\n",
              "Loan_Status           0\n",
              "dtype: int64"
            ]
          },
          "metadata": {},
          "execution_count": 455
        }
      ]
    },
    {
      "cell_type": "code",
      "source": [
        "#Self Employed = Convert YES and NO into 1 and 0 respectively\n",
        "data['Self_Employed']=data[\"Self_Employed\"].replace({'Yes':1,'No':0})"
      ],
      "metadata": {
        "id": "kjf6r0EsNsGd"
      },
      "execution_count": 456,
      "outputs": []
    },
    {
      "cell_type": "markdown",
      "source": [
        "**Data Skewness:**\n",
        "\n",
        "\n",
        "*   A skewness value of 0 indicates the data is symmetrical\n",
        "*   **Positive Skewness** - Longer tail on the Right side\n",
        "\n",
        "*   **Negative Skewness** - Longer tail on the Left Side\n",
        "\n",
        "Mean imputation works better if the distribution is normally-distributed or has a Gaussian distribution, while median imputation is preferable for skewed distribution(be it right or left) **bold text**\n",
        "![c101b0da6ea1a0dab31f80d9963b0368_orig.png](data:image/png;base64,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)\n",
        "\n",
        "\n",
        "\n",
        "\n"
      ],
      "metadata": {
        "id": "efpdJaakKvan"
      }
    },
    {
      "cell_type": "code",
      "source": [
        "data.skew()"
      ],
      "metadata": {
        "colab": {
          "base_uri": "https://localhost:8080/"
        },
        "id": "9Xg2-wBBMm2F",
        "outputId": "0f83af05-c06c-4636-b573-16019e12500f"
      },
      "execution_count": 457,
      "outputs": [
        {
          "output_type": "stream",
          "name": "stderr",
          "text": [
            "<ipython-input-457-b3b431164adb>:1: FutureWarning: The default value of numeric_only in DataFrame.skew is deprecated. In a future version, it will default to False. In addition, specifying 'numeric_only=None' is deprecated. Select only valid columns or specify the value of numeric_only to silence this warning.\n",
            "  data.skew()\n"
          ]
        },
        {
          "output_type": "execute_result",
          "data": {
            "text/plain": [
              "Self_Employed        2.069693\n",
              "ApplicantIncome      6.539513\n",
              "CoapplicantIncome    7.491531\n",
              "LoanAmount           2.677552\n",
              "Loan_Amount_Term    -2.362414\n",
              "Credit_History      -1.882361\n",
              "dtype: float64"
            ]
          },
          "metadata": {},
          "execution_count": 457
        }
      ]
    },
    {
      "cell_type": "markdown",
      "source": [
        "The dataset is both positively and negatively skewed-\n",
        "MEDIAN IMPUTATION ***bold text***"
      ],
      "metadata": {
        "id": "ly5JukOPNHvV"
      }
    },
    {
      "cell_type": "code",
      "source": [
        "data=data.fillna(data.median())\n",
        "data.isnull().sum()"
      ],
      "metadata": {
        "colab": {
          "base_uri": "https://localhost:8080/"
        },
        "id": "iQvkyBOmNU_T",
        "outputId": "141d6daa-dbe7-4b9e-883b-f68d3c180534"
      },
      "execution_count": 458,
      "outputs": [
        {
          "output_type": "stream",
          "name": "stderr",
          "text": [
            "<ipython-input-458-1bd2efdc0fe9>:1: FutureWarning: The default value of numeric_only in DataFrame.median is deprecated. In a future version, it will default to False. In addition, specifying 'numeric_only=None' is deprecated. Select only valid columns or specify the value of numeric_only to silence this warning.\n",
            "  data=data.fillna(data.median())\n"
          ]
        },
        {
          "output_type": "execute_result",
          "data": {
            "text/plain": [
              "Loan_ID              0\n",
              "Gender               0\n",
              "Married              0\n",
              "Dependents           0\n",
              "Education            0\n",
              "Self_Employed        0\n",
              "ApplicantIncome      0\n",
              "CoapplicantIncome    0\n",
              "LoanAmount           0\n",
              "Loan_Amount_Term     0\n",
              "Credit_History       0\n",
              "Property_Area        0\n",
              "Loan_Status          0\n",
              "dtype: int64"
            ]
          },
          "metadata": {},
          "execution_count": 458
        }
      ]
    },
    {
      "cell_type": "code",
      "source": [
        "data.head()"
      ],
      "metadata": {
        "colab": {
          "base_uri": "https://localhost:8080/",
          "height": 287
        },
        "id": "2kdKFIdpO6z3",
        "outputId": "8b4597ec-a998-496a-d6b1-74afca684001"
      },
      "execution_count": 459,
      "outputs": [
        {
          "output_type": "execute_result",
          "data": {
            "text/plain": [
              "    Loan_ID Gender Married Dependents     Education  Self_Employed  \\\n",
              "0  LP001002   Male      No          0      Graduate            0.0   \n",
              "1  LP001003   Male     Yes          1      Graduate            0.0   \n",
              "2  LP001005   Male     Yes          0      Graduate            1.0   \n",
              "3  LP001006   Male     Yes          0  Not Graduate            0.0   \n",
              "4  LP001008   Male      No          0      Graduate            0.0   \n",
              "\n",
              "   ApplicantIncome  CoapplicantIncome  LoanAmount  Loan_Amount_Term  \\\n",
              "0             5849                0.0       128.0             360.0   \n",
              "1             4583             1508.0       128.0             360.0   \n",
              "2             3000                0.0        66.0             360.0   \n",
              "3             2583             2358.0       120.0             360.0   \n",
              "4             6000                0.0       141.0             360.0   \n",
              "\n",
              "   Credit_History Property_Area Loan_Status  \n",
              "0             1.0         Urban           Y  \n",
              "1             1.0         Rural           N  \n",
              "2             1.0         Urban           Y  \n",
              "3             1.0         Urban           Y  \n",
              "4             1.0         Urban           Y  "
            ],
            "text/html": [
              "\n",
              "\n",
              "  <div id=\"df-e63e0f2e-1599-4ef6-9089-d694996244fa\">\n",
              "    <div class=\"colab-df-container\">\n",
              "      <div>\n",
              "<style scoped>\n",
              "    .dataframe tbody tr th:only-of-type {\n",
              "        vertical-align: middle;\n",
              "    }\n",
              "\n",
              "    .dataframe tbody tr th {\n",
              "        vertical-align: top;\n",
              "    }\n",
              "\n",
              "    .dataframe thead th {\n",
              "        text-align: right;\n",
              "    }\n",
              "</style>\n",
              "<table border=\"1\" class=\"dataframe\">\n",
              "  <thead>\n",
              "    <tr style=\"text-align: right;\">\n",
              "      <th></th>\n",
              "      <th>Loan_ID</th>\n",
              "      <th>Gender</th>\n",
              "      <th>Married</th>\n",
              "      <th>Dependents</th>\n",
              "      <th>Education</th>\n",
              "      <th>Self_Employed</th>\n",
              "      <th>ApplicantIncome</th>\n",
              "      <th>CoapplicantIncome</th>\n",
              "      <th>LoanAmount</th>\n",
              "      <th>Loan_Amount_Term</th>\n",
              "      <th>Credit_History</th>\n",
              "      <th>Property_Area</th>\n",
              "      <th>Loan_Status</th>\n",
              "    </tr>\n",
              "  </thead>\n",
              "  <tbody>\n",
              "    <tr>\n",
              "      <th>0</th>\n",
              "      <td>LP001002</td>\n",
              "      <td>Male</td>\n",
              "      <td>No</td>\n",
              "      <td>0</td>\n",
              "      <td>Graduate</td>\n",
              "      <td>0.0</td>\n",
              "      <td>5849</td>\n",
              "      <td>0.0</td>\n",
              "      <td>128.0</td>\n",
              "      <td>360.0</td>\n",
              "      <td>1.0</td>\n",
              "      <td>Urban</td>\n",
              "      <td>Y</td>\n",
              "    </tr>\n",
              "    <tr>\n",
              "      <th>1</th>\n",
              "      <td>LP001003</td>\n",
              "      <td>Male</td>\n",
              "      <td>Yes</td>\n",
              "      <td>1</td>\n",
              "      <td>Graduate</td>\n",
              "      <td>0.0</td>\n",
              "      <td>4583</td>\n",
              "      <td>1508.0</td>\n",
              "      <td>128.0</td>\n",
              "      <td>360.0</td>\n",
              "      <td>1.0</td>\n",
              "      <td>Rural</td>\n",
              "      <td>N</td>\n",
              "    </tr>\n",
              "    <tr>\n",
              "      <th>2</th>\n",
              "      <td>LP001005</td>\n",
              "      <td>Male</td>\n",
              "      <td>Yes</td>\n",
              "      <td>0</td>\n",
              "      <td>Graduate</td>\n",
              "      <td>1.0</td>\n",
              "      <td>3000</td>\n",
              "      <td>0.0</td>\n",
              "      <td>66.0</td>\n",
              "      <td>360.0</td>\n",
              "      <td>1.0</td>\n",
              "      <td>Urban</td>\n",
              "      <td>Y</td>\n",
              "    </tr>\n",
              "    <tr>\n",
              "      <th>3</th>\n",
              "      <td>LP001006</td>\n",
              "      <td>Male</td>\n",
              "      <td>Yes</td>\n",
              "      <td>0</td>\n",
              "      <td>Not Graduate</td>\n",
              "      <td>0.0</td>\n",
              "      <td>2583</td>\n",
              "      <td>2358.0</td>\n",
              "      <td>120.0</td>\n",
              "      <td>360.0</td>\n",
              "      <td>1.0</td>\n",
              "      <td>Urban</td>\n",
              "      <td>Y</td>\n",
              "    </tr>\n",
              "    <tr>\n",
              "      <th>4</th>\n",
              "      <td>LP001008</td>\n",
              "      <td>Male</td>\n",
              "      <td>No</td>\n",
              "      <td>0</td>\n",
              "      <td>Graduate</td>\n",
              "      <td>0.0</td>\n",
              "      <td>6000</td>\n",
              "      <td>0.0</td>\n",
              "      <td>141.0</td>\n",
              "      <td>360.0</td>\n",
              "      <td>1.0</td>\n",
              "      <td>Urban</td>\n",
              "      <td>Y</td>\n",
              "    </tr>\n",
              "  </tbody>\n",
              "</table>\n",
              "</div>\n",
              "      <button class=\"colab-df-convert\" onclick=\"convertToInteractive('df-e63e0f2e-1599-4ef6-9089-d694996244fa')\"\n",
              "              title=\"Convert this dataframe to an interactive table.\"\n",
              "              style=\"display:none;\">\n",
              "\n",
              "  <svg xmlns=\"http://www.w3.org/2000/svg\" height=\"24px\"viewBox=\"0 0 24 24\"\n",
              "       width=\"24px\">\n",
              "    <path d=\"M0 0h24v24H0V0z\" fill=\"none\"/>\n",
              "    <path d=\"M18.56 5.44l.94 2.06.94-2.06 2.06-.94-2.06-.94-.94-2.06-.94 2.06-2.06.94zm-11 1L8.5 8.5l.94-2.06 2.06-.94-2.06-.94L8.5 2.5l-.94 2.06-2.06.94zm10 10l.94 2.06.94-2.06 2.06-.94-2.06-.94-.94-2.06-.94 2.06-2.06.94z\"/><path d=\"M17.41 7.96l-1.37-1.37c-.4-.4-.92-.59-1.43-.59-.52 0-1.04.2-1.43.59L10.3 9.45l-7.72 7.72c-.78.78-.78 2.05 0 2.83L4 21.41c.39.39.9.59 1.41.59.51 0 1.02-.2 1.41-.59l7.78-7.78 2.81-2.81c.8-.78.8-2.07 0-2.86zM5.41 20L4 18.59l7.72-7.72 1.47 1.35L5.41 20z\"/>\n",
              "  </svg>\n",
              "      </button>\n",
              "\n",
              "\n",
              "\n",
              "    <div id=\"df-985a2fb8-c15a-4509-b971-3e83ed50162d\">\n",
              "      <button class=\"colab-df-quickchart\" onclick=\"quickchart('df-985a2fb8-c15a-4509-b971-3e83ed50162d')\"\n",
              "              title=\"Suggest charts.\"\n",
              "              style=\"display:none;\">\n",
              "\n",
              "<svg xmlns=\"http://www.w3.org/2000/svg\" height=\"24px\"viewBox=\"0 0 24 24\"\n",
              "     width=\"24px\">\n",
              "    <g>\n",
              "        <path d=\"M19 3H5c-1.1 0-2 .9-2 2v14c0 1.1.9 2 2 2h14c1.1 0 2-.9 2-2V5c0-1.1-.9-2-2-2zM9 17H7v-7h2v7zm4 0h-2V7h2v10zm4 0h-2v-4h2v4z\"/>\n",
              "    </g>\n",
              "</svg>\n",
              "      </button>\n",
              "    </div>\n",
              "\n",
              "<style>\n",
              "  .colab-df-quickchart {\n",
              "    background-color: #E8F0FE;\n",
              "    border: none;\n",
              "    border-radius: 50%;\n",
              "    cursor: pointer;\n",
              "    display: none;\n",
              "    fill: #1967D2;\n",
              "    height: 32px;\n",
              "    padding: 0 0 0 0;\n",
              "    width: 32px;\n",
              "  }\n",
              "\n",
              "  .colab-df-quickchart:hover {\n",
              "    background-color: #E2EBFA;\n",
              "    box-shadow: 0px 1px 2px rgba(60, 64, 67, 0.3), 0px 1px 3px 1px rgba(60, 64, 67, 0.15);\n",
              "    fill: #174EA6;\n",
              "  }\n",
              "\n",
              "  [theme=dark] .colab-df-quickchart {\n",
              "    background-color: #3B4455;\n",
              "    fill: #D2E3FC;\n",
              "  }\n",
              "\n",
              "  [theme=dark] .colab-df-quickchart:hover {\n",
              "    background-color: #434B5C;\n",
              "    box-shadow: 0px 1px 3px 1px rgba(0, 0, 0, 0.15);\n",
              "    filter: drop-shadow(0px 1px 2px rgba(0, 0, 0, 0.3));\n",
              "    fill: #FFFFFF;\n",
              "  }\n",
              "</style>\n",
              "\n",
              "    <script>\n",
              "      async function quickchart(key) {\n",
              "        const containerElement = document.querySelector('#' + key);\n",
              "        const charts = await google.colab.kernel.invokeFunction(\n",
              "            'suggestCharts', [key], {});\n",
              "      }\n",
              "    </script>\n",
              "\n",
              "      <script>\n",
              "\n",
              "function displayQuickchartButton(domScope) {\n",
              "  let quickchartButtonEl =\n",
              "    domScope.querySelector('#df-985a2fb8-c15a-4509-b971-3e83ed50162d button.colab-df-quickchart');\n",
              "  quickchartButtonEl.style.display =\n",
              "    google.colab.kernel.accessAllowed ? 'block' : 'none';\n",
              "}\n",
              "\n",
              "        displayQuickchartButton(document);\n",
              "      </script>\n",
              "      <style>\n",
              "    .colab-df-container {\n",
              "      display:flex;\n",
              "      flex-wrap:wrap;\n",
              "      gap: 12px;\n",
              "    }\n",
              "\n",
              "    .colab-df-convert {\n",
              "      background-color: #E8F0FE;\n",
              "      border: none;\n",
              "      border-radius: 50%;\n",
              "      cursor: pointer;\n",
              "      display: none;\n",
              "      fill: #1967D2;\n",
              "      height: 32px;\n",
              "      padding: 0 0 0 0;\n",
              "      width: 32px;\n",
              "    }\n",
              "\n",
              "    .colab-df-convert:hover {\n",
              "      background-color: #E2EBFA;\n",
              "      box-shadow: 0px 1px 2px rgba(60, 64, 67, 0.3), 0px 1px 3px 1px rgba(60, 64, 67, 0.15);\n",
              "      fill: #174EA6;\n",
              "    }\n",
              "\n",
              "    [theme=dark] .colab-df-convert {\n",
              "      background-color: #3B4455;\n",
              "      fill: #D2E3FC;\n",
              "    }\n",
              "\n",
              "    [theme=dark] .colab-df-convert:hover {\n",
              "      background-color: #434B5C;\n",
              "      box-shadow: 0px 1px 3px 1px rgba(0, 0, 0, 0.15);\n",
              "      filter: drop-shadow(0px 1px 2px rgba(0, 0, 0, 0.3));\n",
              "      fill: #FFFFFF;\n",
              "    }\n",
              "  </style>\n",
              "\n",
              "      <script>\n",
              "        const buttonEl =\n",
              "          document.querySelector('#df-e63e0f2e-1599-4ef6-9089-d694996244fa button.colab-df-convert');\n",
              "        buttonEl.style.display =\n",
              "          google.colab.kernel.accessAllowed ? 'block' : 'none';\n",
              "\n",
              "        async function convertToInteractive(key) {\n",
              "          const element = document.querySelector('#df-e63e0f2e-1599-4ef6-9089-d694996244fa');\n",
              "          const dataTable =\n",
              "            await google.colab.kernel.invokeFunction('convertToInteractive',\n",
              "                                                     [key], {});\n",
              "          if (!dataTable) return;\n",
              "\n",
              "          const docLinkHtml = 'Like what you see? Visit the ' +\n",
              "            '<a target=\"_blank\" href=https://colab.research.google.com/notebooks/data_table.ipynb>data table notebook</a>'\n",
              "            + ' to learn more about interactive tables.';\n",
              "          element.innerHTML = '';\n",
              "          dataTable['output_type'] = 'display_data';\n",
              "          await google.colab.output.renderOutput(dataTable, element);\n",
              "          const docLink = document.createElement('div');\n",
              "          docLink.innerHTML = docLinkHtml;\n",
              "          element.appendChild(docLink);\n",
              "        }\n",
              "      </script>\n",
              "    </div>\n",
              "  </div>\n"
            ]
          },
          "metadata": {},
          "execution_count": 459
        }
      ]
    },
    {
      "cell_type": "code",
      "source": [
        "data.describe()"
      ],
      "metadata": {
        "colab": {
          "base_uri": "https://localhost:8080/",
          "height": 300
        },
        "id": "xK2acBm4P5kv",
        "outputId": "4ea81f98-85b7-4223-b171-978a10e7d455"
      },
      "execution_count": 460,
      "outputs": [
        {
          "output_type": "execute_result",
          "data": {
            "text/plain": [
              "       Self_Employed  ApplicantIncome  CoapplicantIncome  LoanAmount  \\\n",
              "count     614.000000       614.000000         614.000000  614.000000   \n",
              "mean        0.133550      5403.459283        1621.245798  145.752443   \n",
              "std         0.340446      6109.041673        2926.248369   84.107233   \n",
              "min         0.000000       150.000000           0.000000    9.000000   \n",
              "25%         0.000000      2877.500000           0.000000  100.250000   \n",
              "50%         0.000000      3812.500000        1188.500000  128.000000   \n",
              "75%         0.000000      5795.000000        2297.250000  164.750000   \n",
              "max         1.000000     81000.000000       41667.000000  700.000000   \n",
              "\n",
              "       Loan_Amount_Term  Credit_History  \n",
              "count        614.000000      614.000000  \n",
              "mean         342.410423        0.855049  \n",
              "std           64.428629        0.352339  \n",
              "min           12.000000        0.000000  \n",
              "25%          360.000000        1.000000  \n",
              "50%          360.000000        1.000000  \n",
              "75%          360.000000        1.000000  \n",
              "max          480.000000        1.000000  "
            ],
            "text/html": [
              "\n",
              "\n",
              "  <div id=\"df-70315271-d11b-4dfa-90f9-756281829e93\">\n",
              "    <div class=\"colab-df-container\">\n",
              "      <div>\n",
              "<style scoped>\n",
              "    .dataframe tbody tr th:only-of-type {\n",
              "        vertical-align: middle;\n",
              "    }\n",
              "\n",
              "    .dataframe tbody tr th {\n",
              "        vertical-align: top;\n",
              "    }\n",
              "\n",
              "    .dataframe thead th {\n",
              "        text-align: right;\n",
              "    }\n",
              "</style>\n",
              "<table border=\"1\" class=\"dataframe\">\n",
              "  <thead>\n",
              "    <tr style=\"text-align: right;\">\n",
              "      <th></th>\n",
              "      <th>Self_Employed</th>\n",
              "      <th>ApplicantIncome</th>\n",
              "      <th>CoapplicantIncome</th>\n",
              "      <th>LoanAmount</th>\n",
              "      <th>Loan_Amount_Term</th>\n",
              "      <th>Credit_History</th>\n",
              "    </tr>\n",
              "  </thead>\n",
              "  <tbody>\n",
              "    <tr>\n",
              "      <th>count</th>\n",
              "      <td>614.000000</td>\n",
              "      <td>614.000000</td>\n",
              "      <td>614.000000</td>\n",
              "      <td>614.000000</td>\n",
              "      <td>614.000000</td>\n",
              "      <td>614.000000</td>\n",
              "    </tr>\n",
              "    <tr>\n",
              "      <th>mean</th>\n",
              "      <td>0.133550</td>\n",
              "      <td>5403.459283</td>\n",
              "      <td>1621.245798</td>\n",
              "      <td>145.752443</td>\n",
              "      <td>342.410423</td>\n",
              "      <td>0.855049</td>\n",
              "    </tr>\n",
              "    <tr>\n",
              "      <th>std</th>\n",
              "      <td>0.340446</td>\n",
              "      <td>6109.041673</td>\n",
              "      <td>2926.248369</td>\n",
              "      <td>84.107233</td>\n",
              "      <td>64.428629</td>\n",
              "      <td>0.352339</td>\n",
              "    </tr>\n",
              "    <tr>\n",
              "      <th>min</th>\n",
              "      <td>0.000000</td>\n",
              "      <td>150.000000</td>\n",
              "      <td>0.000000</td>\n",
              "      <td>9.000000</td>\n",
              "      <td>12.000000</td>\n",
              "      <td>0.000000</td>\n",
              "    </tr>\n",
              "    <tr>\n",
              "      <th>25%</th>\n",
              "      <td>0.000000</td>\n",
              "      <td>2877.500000</td>\n",
              "      <td>0.000000</td>\n",
              "      <td>100.250000</td>\n",
              "      <td>360.000000</td>\n",
              "      <td>1.000000</td>\n",
              "    </tr>\n",
              "    <tr>\n",
              "      <th>50%</th>\n",
              "      <td>0.000000</td>\n",
              "      <td>3812.500000</td>\n",
              "      <td>1188.500000</td>\n",
              "      <td>128.000000</td>\n",
              "      <td>360.000000</td>\n",
              "      <td>1.000000</td>\n",
              "    </tr>\n",
              "    <tr>\n",
              "      <th>75%</th>\n",
              "      <td>0.000000</td>\n",
              "      <td>5795.000000</td>\n",
              "      <td>2297.250000</td>\n",
              "      <td>164.750000</td>\n",
              "      <td>360.000000</td>\n",
              "      <td>1.000000</td>\n",
              "    </tr>\n",
              "    <tr>\n",
              "      <th>max</th>\n",
              "      <td>1.000000</td>\n",
              "      <td>81000.000000</td>\n",
              "      <td>41667.000000</td>\n",
              "      <td>700.000000</td>\n",
              "      <td>480.000000</td>\n",
              "      <td>1.000000</td>\n",
              "    </tr>\n",
              "  </tbody>\n",
              "</table>\n",
              "</div>\n",
              "      <button class=\"colab-df-convert\" onclick=\"convertToInteractive('df-70315271-d11b-4dfa-90f9-756281829e93')\"\n",
              "              title=\"Convert this dataframe to an interactive table.\"\n",
              "              style=\"display:none;\">\n",
              "\n",
              "  <svg xmlns=\"http://www.w3.org/2000/svg\" height=\"24px\"viewBox=\"0 0 24 24\"\n",
              "       width=\"24px\">\n",
              "    <path d=\"M0 0h24v24H0V0z\" fill=\"none\"/>\n",
              "    <path d=\"M18.56 5.44l.94 2.06.94-2.06 2.06-.94-2.06-.94-.94-2.06-.94 2.06-2.06.94zm-11 1L8.5 8.5l.94-2.06 2.06-.94-2.06-.94L8.5 2.5l-.94 2.06-2.06.94zm10 10l.94 2.06.94-2.06 2.06-.94-2.06-.94-.94-2.06-.94 2.06-2.06.94z\"/><path d=\"M17.41 7.96l-1.37-1.37c-.4-.4-.92-.59-1.43-.59-.52 0-1.04.2-1.43.59L10.3 9.45l-7.72 7.72c-.78.78-.78 2.05 0 2.83L4 21.41c.39.39.9.59 1.41.59.51 0 1.02-.2 1.41-.59l7.78-7.78 2.81-2.81c.8-.78.8-2.07 0-2.86zM5.41 20L4 18.59l7.72-7.72 1.47 1.35L5.41 20z\"/>\n",
              "  </svg>\n",
              "      </button>\n",
              "\n",
              "\n",
              "\n",
              "    <div id=\"df-383fdf51-4118-4269-b1e6-177c4099268d\">\n",
              "      <button class=\"colab-df-quickchart\" onclick=\"quickchart('df-383fdf51-4118-4269-b1e6-177c4099268d')\"\n",
              "              title=\"Suggest charts.\"\n",
              "              style=\"display:none;\">\n",
              "\n",
              "<svg xmlns=\"http://www.w3.org/2000/svg\" height=\"24px\"viewBox=\"0 0 24 24\"\n",
              "     width=\"24px\">\n",
              "    <g>\n",
              "        <path d=\"M19 3H5c-1.1 0-2 .9-2 2v14c0 1.1.9 2 2 2h14c1.1 0 2-.9 2-2V5c0-1.1-.9-2-2-2zM9 17H7v-7h2v7zm4 0h-2V7h2v10zm4 0h-2v-4h2v4z\"/>\n",
              "    </g>\n",
              "</svg>\n",
              "      </button>\n",
              "    </div>\n",
              "\n",
              "<style>\n",
              "  .colab-df-quickchart {\n",
              "    background-color: #E8F0FE;\n",
              "    border: none;\n",
              "    border-radius: 50%;\n",
              "    cursor: pointer;\n",
              "    display: none;\n",
              "    fill: #1967D2;\n",
              "    height: 32px;\n",
              "    padding: 0 0 0 0;\n",
              "    width: 32px;\n",
              "  }\n",
              "\n",
              "  .colab-df-quickchart:hover {\n",
              "    background-color: #E2EBFA;\n",
              "    box-shadow: 0px 1px 2px rgba(60, 64, 67, 0.3), 0px 1px 3px 1px rgba(60, 64, 67, 0.15);\n",
              "    fill: #174EA6;\n",
              "  }\n",
              "\n",
              "  [theme=dark] .colab-df-quickchart {\n",
              "    background-color: #3B4455;\n",
              "    fill: #D2E3FC;\n",
              "  }\n",
              "\n",
              "  [theme=dark] .colab-df-quickchart:hover {\n",
              "    background-color: #434B5C;\n",
              "    box-shadow: 0px 1px 3px 1px rgba(0, 0, 0, 0.15);\n",
              "    filter: drop-shadow(0px 1px 2px rgba(0, 0, 0, 0.3));\n",
              "    fill: #FFFFFF;\n",
              "  }\n",
              "</style>\n",
              "\n",
              "    <script>\n",
              "      async function quickchart(key) {\n",
              "        const containerElement = document.querySelector('#' + key);\n",
              "        const charts = await google.colab.kernel.invokeFunction(\n",
              "            'suggestCharts', [key], {});\n",
              "      }\n",
              "    </script>\n",
              "\n",
              "      <script>\n",
              "\n",
              "function displayQuickchartButton(domScope) {\n",
              "  let quickchartButtonEl =\n",
              "    domScope.querySelector('#df-383fdf51-4118-4269-b1e6-177c4099268d button.colab-df-quickchart');\n",
              "  quickchartButtonEl.style.display =\n",
              "    google.colab.kernel.accessAllowed ? 'block' : 'none';\n",
              "}\n",
              "\n",
              "        displayQuickchartButton(document);\n",
              "      </script>\n",
              "      <style>\n",
              "    .colab-df-container {\n",
              "      display:flex;\n",
              "      flex-wrap:wrap;\n",
              "      gap: 12px;\n",
              "    }\n",
              "\n",
              "    .colab-df-convert {\n",
              "      background-color: #E8F0FE;\n",
              "      border: none;\n",
              "      border-radius: 50%;\n",
              "      cursor: pointer;\n",
              "      display: none;\n",
              "      fill: #1967D2;\n",
              "      height: 32px;\n",
              "      padding: 0 0 0 0;\n",
              "      width: 32px;\n",
              "    }\n",
              "\n",
              "    .colab-df-convert:hover {\n",
              "      background-color: #E2EBFA;\n",
              "      box-shadow: 0px 1px 2px rgba(60, 64, 67, 0.3), 0px 1px 3px 1px rgba(60, 64, 67, 0.15);\n",
              "      fill: #174EA6;\n",
              "    }\n",
              "\n",
              "    [theme=dark] .colab-df-convert {\n",
              "      background-color: #3B4455;\n",
              "      fill: #D2E3FC;\n",
              "    }\n",
              "\n",
              "    [theme=dark] .colab-df-convert:hover {\n",
              "      background-color: #434B5C;\n",
              "      box-shadow: 0px 1px 3px 1px rgba(0, 0, 0, 0.15);\n",
              "      filter: drop-shadow(0px 1px 2px rgba(0, 0, 0, 0.3));\n",
              "      fill: #FFFFFF;\n",
              "    }\n",
              "  </style>\n",
              "\n",
              "      <script>\n",
              "        const buttonEl =\n",
              "          document.querySelector('#df-70315271-d11b-4dfa-90f9-756281829e93 button.colab-df-convert');\n",
              "        buttonEl.style.display =\n",
              "          google.colab.kernel.accessAllowed ? 'block' : 'none';\n",
              "\n",
              "        async function convertToInteractive(key) {\n",
              "          const element = document.querySelector('#df-70315271-d11b-4dfa-90f9-756281829e93');\n",
              "          const dataTable =\n",
              "            await google.colab.kernel.invokeFunction('convertToInteractive',\n",
              "                                                     [key], {});\n",
              "          if (!dataTable) return;\n",
              "\n",
              "          const docLinkHtml = 'Like what you see? Visit the ' +\n",
              "            '<a target=\"_blank\" href=https://colab.research.google.com/notebooks/data_table.ipynb>data table notebook</a>'\n",
              "            + ' to learn more about interactive tables.';\n",
              "          element.innerHTML = '';\n",
              "          dataTable['output_type'] = 'display_data';\n",
              "          await google.colab.output.renderOutput(dataTable, element);\n",
              "          const docLink = document.createElement('div');\n",
              "          docLink.innerHTML = docLinkHtml;\n",
              "          element.appendChild(docLink);\n",
              "        }\n",
              "      </script>\n",
              "    </div>\n",
              "  </div>\n"
            ]
          },
          "metadata": {},
          "execution_count": 460
        }
      ]
    },
    {
      "cell_type": "code",
      "source": [
        "# Explore how Credit History Affects Loan Status\n",
        "pd.crosstab(data[\"Credit_History\"],data[\"Loan_Status\"],margins=True)"
      ],
      "metadata": {
        "colab": {
          "base_uri": "https://localhost:8080/",
          "height": 174
        },
        "id": "4PAOZmaBQoFQ",
        "outputId": "95708aed-6e52-47cf-acf3-ae147dc26270"
      },
      "execution_count": 461,
      "outputs": [
        {
          "output_type": "execute_result",
          "data": {
            "text/plain": [
              "Loan_Status       N    Y  All\n",
              "Credit_History               \n",
              "0.0              82    7   89\n",
              "1.0             110  415  525\n",
              "All             192  422  614"
            ],
            "text/html": [
              "\n",
              "\n",
              "  <div id=\"df-452561a2-a5d5-4cd2-8acf-216ba10afd8b\">\n",
              "    <div class=\"colab-df-container\">\n",
              "      <div>\n",
              "<style scoped>\n",
              "    .dataframe tbody tr th:only-of-type {\n",
              "        vertical-align: middle;\n",
              "    }\n",
              "\n",
              "    .dataframe tbody tr th {\n",
              "        vertical-align: top;\n",
              "    }\n",
              "\n",
              "    .dataframe thead th {\n",
              "        text-align: right;\n",
              "    }\n",
              "</style>\n",
              "<table border=\"1\" class=\"dataframe\">\n",
              "  <thead>\n",
              "    <tr style=\"text-align: right;\">\n",
              "      <th>Loan_Status</th>\n",
              "      <th>N</th>\n",
              "      <th>Y</th>\n",
              "      <th>All</th>\n",
              "    </tr>\n",
              "    <tr>\n",
              "      <th>Credit_History</th>\n",
              "      <th></th>\n",
              "      <th></th>\n",
              "      <th></th>\n",
              "    </tr>\n",
              "  </thead>\n",
              "  <tbody>\n",
              "    <tr>\n",
              "      <th>0.0</th>\n",
              "      <td>82</td>\n",
              "      <td>7</td>\n",
              "      <td>89</td>\n",
              "    </tr>\n",
              "    <tr>\n",
              "      <th>1.0</th>\n",
              "      <td>110</td>\n",
              "      <td>415</td>\n",
              "      <td>525</td>\n",
              "    </tr>\n",
              "    <tr>\n",
              "      <th>All</th>\n",
              "      <td>192</td>\n",
              "      <td>422</td>\n",
              "      <td>614</td>\n",
              "    </tr>\n",
              "  </tbody>\n",
              "</table>\n",
              "</div>\n",
              "      <button class=\"colab-df-convert\" onclick=\"convertToInteractive('df-452561a2-a5d5-4cd2-8acf-216ba10afd8b')\"\n",
              "              title=\"Convert this dataframe to an interactive table.\"\n",
              "              style=\"display:none;\">\n",
              "\n",
              "  <svg xmlns=\"http://www.w3.org/2000/svg\" height=\"24px\"viewBox=\"0 0 24 24\"\n",
              "       width=\"24px\">\n",
              "    <path d=\"M0 0h24v24H0V0z\" fill=\"none\"/>\n",
              "    <path d=\"M18.56 5.44l.94 2.06.94-2.06 2.06-.94-2.06-.94-.94-2.06-.94 2.06-2.06.94zm-11 1L8.5 8.5l.94-2.06 2.06-.94-2.06-.94L8.5 2.5l-.94 2.06-2.06.94zm10 10l.94 2.06.94-2.06 2.06-.94-2.06-.94-.94-2.06-.94 2.06-2.06.94z\"/><path d=\"M17.41 7.96l-1.37-1.37c-.4-.4-.92-.59-1.43-.59-.52 0-1.04.2-1.43.59L10.3 9.45l-7.72 7.72c-.78.78-.78 2.05 0 2.83L4 21.41c.39.39.9.59 1.41.59.51 0 1.02-.2 1.41-.59l7.78-7.78 2.81-2.81c.8-.78.8-2.07 0-2.86zM5.41 20L4 18.59l7.72-7.72 1.47 1.35L5.41 20z\"/>\n",
              "  </svg>\n",
              "      </button>\n",
              "\n",
              "\n",
              "\n",
              "    <div id=\"df-ff0c5099-f497-4dde-9879-f17f56b06f2a\">\n",
              "      <button class=\"colab-df-quickchart\" onclick=\"quickchart('df-ff0c5099-f497-4dde-9879-f17f56b06f2a')\"\n",
              "              title=\"Suggest charts.\"\n",
              "              style=\"display:none;\">\n",
              "\n",
              "<svg xmlns=\"http://www.w3.org/2000/svg\" height=\"24px\"viewBox=\"0 0 24 24\"\n",
              "     width=\"24px\">\n",
              "    <g>\n",
              "        <path d=\"M19 3H5c-1.1 0-2 .9-2 2v14c0 1.1.9 2 2 2h14c1.1 0 2-.9 2-2V5c0-1.1-.9-2-2-2zM9 17H7v-7h2v7zm4 0h-2V7h2v10zm4 0h-2v-4h2v4z\"/>\n",
              "    </g>\n",
              "</svg>\n",
              "      </button>\n",
              "    </div>\n",
              "\n",
              "<style>\n",
              "  .colab-df-quickchart {\n",
              "    background-color: #E8F0FE;\n",
              "    border: none;\n",
              "    border-radius: 50%;\n",
              "    cursor: pointer;\n",
              "    display: none;\n",
              "    fill: #1967D2;\n",
              "    height: 32px;\n",
              "    padding: 0 0 0 0;\n",
              "    width: 32px;\n",
              "  }\n",
              "\n",
              "  .colab-df-quickchart:hover {\n",
              "    background-color: #E2EBFA;\n",
              "    box-shadow: 0px 1px 2px rgba(60, 64, 67, 0.3), 0px 1px 3px 1px rgba(60, 64, 67, 0.15);\n",
              "    fill: #174EA6;\n",
              "  }\n",
              "\n",
              "  [theme=dark] .colab-df-quickchart {\n",
              "    background-color: #3B4455;\n",
              "    fill: #D2E3FC;\n",
              "  }\n",
              "\n",
              "  [theme=dark] .colab-df-quickchart:hover {\n",
              "    background-color: #434B5C;\n",
              "    box-shadow: 0px 1px 3px 1px rgba(0, 0, 0, 0.15);\n",
              "    filter: drop-shadow(0px 1px 2px rgba(0, 0, 0, 0.3));\n",
              "    fill: #FFFFFF;\n",
              "  }\n",
              "</style>\n",
              "\n",
              "    <script>\n",
              "      async function quickchart(key) {\n",
              "        const containerElement = document.querySelector('#' + key);\n",
              "        const charts = await google.colab.kernel.invokeFunction(\n",
              "            'suggestCharts', [key], {});\n",
              "      }\n",
              "    </script>\n",
              "\n",
              "      <script>\n",
              "\n",
              "function displayQuickchartButton(domScope) {\n",
              "  let quickchartButtonEl =\n",
              "    domScope.querySelector('#df-ff0c5099-f497-4dde-9879-f17f56b06f2a button.colab-df-quickchart');\n",
              "  quickchartButtonEl.style.display =\n",
              "    google.colab.kernel.accessAllowed ? 'block' : 'none';\n",
              "}\n",
              "\n",
              "        displayQuickchartButton(document);\n",
              "      </script>\n",
              "      <style>\n",
              "    .colab-df-container {\n",
              "      display:flex;\n",
              "      flex-wrap:wrap;\n",
              "      gap: 12px;\n",
              "    }\n",
              "\n",
              "    .colab-df-convert {\n",
              "      background-color: #E8F0FE;\n",
              "      border: none;\n",
              "      border-radius: 50%;\n",
              "      cursor: pointer;\n",
              "      display: none;\n",
              "      fill: #1967D2;\n",
              "      height: 32px;\n",
              "      padding: 0 0 0 0;\n",
              "      width: 32px;\n",
              "    }\n",
              "\n",
              "    .colab-df-convert:hover {\n",
              "      background-color: #E2EBFA;\n",
              "      box-shadow: 0px 1px 2px rgba(60, 64, 67, 0.3), 0px 1px 3px 1px rgba(60, 64, 67, 0.15);\n",
              "      fill: #174EA6;\n",
              "    }\n",
              "\n",
              "    [theme=dark] .colab-df-convert {\n",
              "      background-color: #3B4455;\n",
              "      fill: #D2E3FC;\n",
              "    }\n",
              "\n",
              "    [theme=dark] .colab-df-convert:hover {\n",
              "      background-color: #434B5C;\n",
              "      box-shadow: 0px 1px 3px 1px rgba(0, 0, 0, 0.15);\n",
              "      filter: drop-shadow(0px 1px 2px rgba(0, 0, 0, 0.3));\n",
              "      fill: #FFFFFF;\n",
              "    }\n",
              "  </style>\n",
              "\n",
              "      <script>\n",
              "        const buttonEl =\n",
              "          document.querySelector('#df-452561a2-a5d5-4cd2-8acf-216ba10afd8b button.colab-df-convert');\n",
              "        buttonEl.style.display =\n",
              "          google.colab.kernel.accessAllowed ? 'block' : 'none';\n",
              "\n",
              "        async function convertToInteractive(key) {\n",
              "          const element = document.querySelector('#df-452561a2-a5d5-4cd2-8acf-216ba10afd8b');\n",
              "          const dataTable =\n",
              "            await google.colab.kernel.invokeFunction('convertToInteractive',\n",
              "                                                     [key], {});\n",
              "          if (!dataTable) return;\n",
              "\n",
              "          const docLinkHtml = 'Like what you see? Visit the ' +\n",
              "            '<a target=\"_blank\" href=https://colab.research.google.com/notebooks/data_table.ipynb>data table notebook</a>'\n",
              "            + ' to learn more about interactive tables.';\n",
              "          element.innerHTML = '';\n",
              "          dataTable['output_type'] = 'display_data';\n",
              "          await google.colab.output.renderOutput(dataTable, element);\n",
              "          const docLink = document.createElement('div');\n",
              "          docLink.innerHTML = docLinkHtml;\n",
              "          element.appendChild(docLink);\n",
              "        }\n",
              "      </script>\n",
              "    </div>\n",
              "  </div>\n"
            ]
          },
          "metadata": {},
          "execution_count": 461
        }
      ]
    },
    {
      "cell_type": "markdown",
      "source": [
        "***Applicants with credit history of 1 is more eligible for the loan approval***"
      ],
      "metadata": {
        "id": "rQEbyTCtRZSF"
      }
    },
    {
      "cell_type": "code",
      "source": [
        "data.boxplot(column=\"ApplicantIncome\")"
      ],
      "metadata": {
        "colab": {
          "base_uri": "https://localhost:8080/",
          "height": 447
        },
        "id": "vEK08BYaSCNr",
        "outputId": "8eb7139f-7b50-4a39-b9b7-ee9ed3cd0096"
      },
      "execution_count": 462,
      "outputs": [
        {
          "output_type": "execute_result",
          "data": {
            "text/plain": [
              "<Axes: >"
            ]
          },
          "metadata": {},
          "execution_count": 462
        },
        {
          "output_type": "display_data",
          "data": {
            "text/plain": [
              "<Figure size 640x480 with 1 Axes>"
            ],
            "image/png": "[encoded data removed]"
          },
          "metadata": {}
        }
      ]
    },
    {
      "cell_type": "code",
      "source": [
        "data.boxplot(column=\"CoapplicantIncome\")"
      ],
      "metadata": {
        "colab": {
          "base_uri": "https://localhost:8080/",
          "height": 447
        },
        "id": "e9Br3CU6SMC1",
        "outputId": "0be0bbc5-73bc-4553-d32f-d8db294b3b56"
      },
      "execution_count": 463,
      "outputs": [
        {
          "output_type": "execute_result",
          "data": {
            "text/plain": [
              "<Axes: >"
            ]
          },
          "metadata": {},
          "execution_count": 463
        },
        {
          "output_type": "display_data",
          "data": {
            "text/plain": [
              "<Figure size 640x480 with 1 Axes>"
            ],
            "image/png": "[encoded data removed]"
          },
          "metadata": {}
        }
      ]
    },
    {
      "cell_type": "code",
      "source": [
        "data.boxplot(column=\"LoanAmount\")"
      ],
      "metadata": {
        "colab": {
          "base_uri": "https://localhost:8080/",
          "height": 447
        },
        "id": "lWxGvz6FZ5zu",
        "outputId": "1361fcbf-d273-4393-ff0a-88c768112eeb"
      },
      "execution_count": 464,
      "outputs": [
        {
          "output_type": "execute_result",
          "data": {
            "text/plain": [
              "<Axes: >"
            ]
          },
          "metadata": {},
          "execution_count": 464
        },
        {
          "output_type": "display_data",
          "data": {
            "text/plain": [
              "<Figure size 640x480 with 1 Axes>"
            ],
            "image/png": "[encoded data removed]"
          },
          "metadata": {}
        }
      ]
    },
    {
      "cell_type": "code",
      "source": [
        "data[\"ApplicantIncome\"].hist(bins=20)"
      ],
      "metadata": {
        "colab": {
          "base_uri": "https://localhost:8080/",
          "height": 447
        },
        "id": "qQV1jqDLSXJk",
        "outputId": "2e7c25af-20e8-4e60-b5cf-7271a5a6459c"
      },
      "execution_count": 465,
      "outputs": [
        {
          "output_type": "execute_result",
          "data": {
            "text/plain": [
              "<Axes: >"
            ]
          },
          "metadata": {},
          "execution_count": 465
        },
        {
          "output_type": "display_data",
          "data": {
            "text/plain": [
              "<Figure size 640x480 with 1 Axes>"
            ],
            "image/png": "[encoded data removed]"
          },
          "metadata": {}
        }
      ]
    },
    {
      "cell_type": "code",
      "source": [
        "data[\"CoapplicantIncome\"].hist(bins=20)"
      ],
      "metadata": {
        "colab": {
          "base_uri": "https://localhost:8080/",
          "height": 447
        },
        "id": "DeDEIUQWTA6d",
        "outputId": "03cc7fc8-a1f6-4ebe-c5b8-2d287a3245dc"
      },
      "execution_count": 466,
      "outputs": [
        {
          "output_type": "execute_result",
          "data": {
            "text/plain": [
              "<Axes: >"
            ]
          },
          "metadata": {},
          "execution_count": 466
        },
        {
          "output_type": "display_data",
          "data": {
            "text/plain": [
              "<Figure size 640x480 with 1 Axes>"
            ],
            "image/png": "[encoded data removed]"
          },
          "metadata": {}
        }
      ]
    },
    {
      "cell_type": "code",
      "source": [
        "data[\"LoanAmount\"].hist(bins=20)"
      ],
      "metadata": {
        "colab": {
          "base_uri": "https://localhost:8080/",
          "height": 447
        },
        "id": "J_dwPbpOaEcy",
        "outputId": "030fc695-3cda-42c3-a3ab-5553b051c325"
      },
      "execution_count": 467,
      "outputs": [
        {
          "output_type": "execute_result",
          "data": {
            "text/plain": [
              "<Axes: >"
            ]
          },
          "metadata": {},
          "execution_count": 467
        },
        {
          "output_type": "display_data",
          "data": {
            "text/plain": [
              "<Figure size 640x480 with 1 Axes>"
            ],
            "image/png": "[encoded data removed]"
          },
          "metadata": {}
        }
      ]
    },
    {
      "cell_type": "markdown",
      "source": [
        "**Relationship Between Applicant Income and their Education**"
      ],
      "metadata": {
        "id": "k75ywn6FY1sa"
      }
    },
    {
      "cell_type": "code",
      "source": [
        "data.boxplot(column='ApplicantIncome', by='Education')"
      ],
      "metadata": {
        "colab": {
          "base_uri": "https://localhost:8080/",
          "height": 495
        },
        "id": "QaQADNpIY8IO",
        "outputId": "eef51b77-ddc5-47f0-a546-900156cad347"
      },
      "execution_count": 468,
      "outputs": [
        {
          "output_type": "execute_result",
          "data": {
            "text/plain": [
              "<Axes: title={'center': 'ApplicantIncome'}, xlabel='Education'>"
            ]
          },
          "metadata": {},
          "execution_count": 468
        },
        {
          "output_type": "display_data",
          "data": {
            "text/plain": [
              "<Figure size 640x480 with 1 Axes>"
            ],
            "image/png": "[encoded data removed]"
          },
          "metadata": {}
        }
      ]
    },
    {
      "cell_type": "markdown",
      "source": [
        "**Median Salary does not vary much between Graduates and Not Graduates**"
      ],
      "metadata": {
        "id": "6N7h1wN7Zfy1"
      }
    },
    {
      "cell_type": "markdown",
      "source": [
        "**Normalizing as the graphs are Right Skewed**"
      ],
      "metadata": {
        "id": "jGvn_qYzap1q"
      }
    },
    {
      "cell_type": "code",
      "source": [
        "#Loan Amount Normalization\n",
        "data['LoanAmount_log']=np.log(data['LoanAmount'])\n",
        "data['LoanAmount_log'].hist(bins=20)"
      ],
      "metadata": {
        "colab": {
          "base_uri": "https://localhost:8080/",
          "height": 447
        },
        "id": "99FEmhNYZm7A",
        "outputId": "33d34206-8031-456d-fe87-992ab65d6426"
      },
      "execution_count": 469,
      "outputs": [
        {
          "output_type": "execute_result",
          "data": {
            "text/plain": [
              "<Axes: >"
            ]
          },
          "metadata": {},
          "execution_count": 469
        },
        {
          "output_type": "display_data",
          "data": {
            "text/plain": [
              "<Figure size 640x480 with 1 Axes>"
            ],
            "image/png": "[encoded data removed]"
          },
          "metadata": {}
        }
      ]
    },
    {
      "cell_type": "markdown",
      "source": [
        "**Normalizing Income**"
      ],
      "metadata": {
        "id": "XrZmHAS4o3wR"
      }
    },
    {
      "cell_type": "code",
      "source": [
        "data[\"Total_income\"] = data[\"ApplicantIncome\"] + data[\"CoapplicantIncome\"]\n",
        "data[\"Total_income_log\"] = np.log(data[\"Total_income\"])\n",
        "data[\"Total_income_log\"].hist(bins=20)"
      ],
      "metadata": {
        "colab": {
          "base_uri": "https://localhost:8080/",
          "height": 447
        },
        "id": "u43EOViabd0X",
        "outputId": "78891c2a-2bc5-482b-f2c8-80a605c09cfc"
      },
      "execution_count": 470,
      "outputs": [
        {
          "output_type": "execute_result",
          "data": {
            "text/plain": [
              "<Axes: >"
            ]
          },
          "metadata": {},
          "execution_count": 470
        },
        {
          "output_type": "display_data",
          "data": {
            "text/plain": [
              "<Figure size 640x480 with 1 Axes>"
            ],
            "image/png": "[encoded data removed]"
          },
          "metadata": {}
        }
      ]
    },
    {
      "cell_type": "code",
      "source": [
        "data.head()"
      ],
      "metadata": {
        "colab": {
          "base_uri": "https://localhost:8080/",
          "height": 287
        },
        "id": "gLlWPVQ7qLXH",
        "outputId": "b3c25e92-0ce3-4867-d221-1178f65396c2"
      },
      "execution_count": 471,
      "outputs": [
        {
          "output_type": "execute_result",
          "data": {
            "text/plain": [
              "    Loan_ID Gender Married Dependents     Education  Self_Employed  \\\n",
              "0  LP001002   Male      No          0      Graduate            0.0   \n",
              "1  LP001003   Male     Yes          1      Graduate            0.0   \n",
              "2  LP001005   Male     Yes          0      Graduate            1.0   \n",
              "3  LP001006   Male     Yes          0  Not Graduate            0.0   \n",
              "4  LP001008   Male      No          0      Graduate            0.0   \n",
              "\n",
              "   ApplicantIncome  CoapplicantIncome  LoanAmount  Loan_Amount_Term  \\\n",
              "0             5849                0.0       128.0             360.0   \n",
              "1             4583             1508.0       128.0             360.0   \n",
              "2             3000                0.0        66.0             360.0   \n",
              "3             2583             2358.0       120.0             360.0   \n",
              "4             6000                0.0       141.0             360.0   \n",
              "\n",
              "   Credit_History Property_Area Loan_Status  LoanAmount_log  Total_income  \\\n",
              "0             1.0         Urban           Y        4.852030        5849.0   \n",
              "1             1.0         Rural           N        4.852030        6091.0   \n",
              "2             1.0         Urban           Y        4.189655        3000.0   \n",
              "3             1.0         Urban           Y        4.787492        4941.0   \n",
              "4             1.0         Urban           Y        4.948760        6000.0   \n",
              "\n",
              "   Total_income_log  \n",
              "0          8.674026  \n",
              "1          8.714568  \n",
              "2          8.006368  \n",
              "3          8.505323  \n",
              "4          8.699515  "
            ],
            "text/html": [
              "\n",
              "\n",
              "  <div id=\"df-e0adb470-fa54-43c2-96a3-d22cf8a83a90\">\n",
              "    <div class=\"colab-df-container\">\n",
              "      <div>\n",
              "<style scoped>\n",
              "    .dataframe tbody tr th:only-of-type {\n",
              "        vertical-align: middle;\n",
              "    }\n",
              "\n",
              "    .dataframe tbody tr th {\n",
              "        vertical-align: top;\n",
              "    }\n",
              "\n",
              "    .dataframe thead th {\n",
              "        text-align: right;\n",
              "    }\n",
              "</style>\n",
              "<table border=\"1\" class=\"dataframe\">\n",
              "  <thead>\n",
              "    <tr style=\"text-align: right;\">\n",
              "      <th></th>\n",
              "      <th>Loan_ID</th>\n",
              "      <th>Gender</th>\n",
              "      <th>Married</th>\n",
              "      <th>Dependents</th>\n",
              "      <th>Education</th>\n",
              "      <th>Self_Employed</th>\n",
              "      <th>ApplicantIncome</th>\n",
              "      <th>CoapplicantIncome</th>\n",
              "      <th>LoanAmount</th>\n",
              "      <th>Loan_Amount_Term</th>\n",
              "      <th>Credit_History</th>\n",
              "      <th>Property_Area</th>\n",
              "      <th>Loan_Status</th>\n",
              "      <th>LoanAmount_log</th>\n",
              "      <th>Total_income</th>\n",
              "      <th>Total_income_log</th>\n",
              "    </tr>\n",
              "  </thead>\n",
              "  <tbody>\n",
              "    <tr>\n",
              "      <th>0</th>\n",
              "      <td>LP001002</td>\n",
              "      <td>Male</td>\n",
              "      <td>No</td>\n",
              "      <td>0</td>\n",
              "      <td>Graduate</td>\n",
              "      <td>0.0</td>\n",
              "      <td>5849</td>\n",
              "      <td>0.0</td>\n",
              "      <td>128.0</td>\n",
              "      <td>360.0</td>\n",
              "      <td>1.0</td>\n",
              "      <td>Urban</td>\n",
              "      <td>Y</td>\n",
              "      <td>4.852030</td>\n",
              "      <td>5849.0</td>\n",
              "      <td>8.674026</td>\n",
              "    </tr>\n",
              "    <tr>\n",
              "      <th>1</th>\n",
              "      <td>LP001003</td>\n",
              "      <td>Male</td>\n",
              "      <td>Yes</td>\n",
              "      <td>1</td>\n",
              "      <td>Graduate</td>\n",
              "      <td>0.0</td>\n",
              "      <td>4583</td>\n",
              "      <td>1508.0</td>\n",
              "      <td>128.0</td>\n",
              "      <td>360.0</td>\n",
              "      <td>1.0</td>\n",
              "      <td>Rural</td>\n",
              "      <td>N</td>\n",
              "      <td>4.852030</td>\n",
              "      <td>6091.0</td>\n",
              "      <td>8.714568</td>\n",
              "    </tr>\n",
              "    <tr>\n",
              "      <th>2</th>\n",
              "      <td>LP001005</td>\n",
              "      <td>Male</td>\n",
              "      <td>Yes</td>\n",
              "      <td>0</td>\n",
              "      <td>Graduate</td>\n",
              "      <td>1.0</td>\n",
              "      <td>3000</td>\n",
              "      <td>0.0</td>\n",
              "      <td>66.0</td>\n",
              "      <td>360.0</td>\n",
              "      <td>1.0</td>\n",
              "      <td>Urban</td>\n",
              "      <td>Y</td>\n",
              "      <td>4.189655</td>\n",
              "      <td>3000.0</td>\n",
              "      <td>8.006368</td>\n",
              "    </tr>\n",
              "    <tr>\n",
              "      <th>3</th>\n",
              "      <td>LP001006</td>\n",
              "      <td>Male</td>\n",
              "      <td>Yes</td>\n",
              "      <td>0</td>\n",
              "      <td>Not Graduate</td>\n",
              "      <td>0.0</td>\n",
              "      <td>2583</td>\n",
              "      <td>2358.0</td>\n",
              "      <td>120.0</td>\n",
              "      <td>360.0</td>\n",
              "      <td>1.0</td>\n",
              "      <td>Urban</td>\n",
              "      <td>Y</td>\n",
              "      <td>4.787492</td>\n",
              "      <td>4941.0</td>\n",
              "      <td>8.505323</td>\n",
              "    </tr>\n",
              "    <tr>\n",
              "      <th>4</th>\n",
              "      <td>LP001008</td>\n",
              "      <td>Male</td>\n",
              "      <td>No</td>\n",
              "      <td>0</td>\n",
              "      <td>Graduate</td>\n",
              "      <td>0.0</td>\n",
              "      <td>6000</td>\n",
              "      <td>0.0</td>\n",
              "      <td>141.0</td>\n",
              "      <td>360.0</td>\n",
              "      <td>1.0</td>\n",
              "      <td>Urban</td>\n",
              "      <td>Y</td>\n",
              "      <td>4.948760</td>\n",
              "      <td>6000.0</td>\n",
              "      <td>8.699515</td>\n",
              "    </tr>\n",
              "  </tbody>\n",
              "</table>\n",
              "</div>\n",
              "      <button class=\"colab-df-convert\" onclick=\"convertToInteractive('df-e0adb470-fa54-43c2-96a3-d22cf8a83a90')\"\n",
              "              title=\"Convert this dataframe to an interactive table.\"\n",
              "              style=\"display:none;\">\n",
              "\n",
              "  <svg xmlns=\"http://www.w3.org/2000/svg\" height=\"24px\"viewBox=\"0 0 24 24\"\n",
              "       width=\"24px\">\n",
              "    <path d=\"M0 0h24v24H0V0z\" fill=\"none\"/>\n",
              "    <path d=\"M18.56 5.44l.94 2.06.94-2.06 2.06-.94-2.06-.94-.94-2.06-.94 2.06-2.06.94zm-11 1L8.5 8.5l.94-2.06 2.06-.94-2.06-.94L8.5 2.5l-.94 2.06-2.06.94zm10 10l.94 2.06.94-2.06 2.06-.94-2.06-.94-.94-2.06-.94 2.06-2.06.94z\"/><path d=\"M17.41 7.96l-1.37-1.37c-.4-.4-.92-.59-1.43-.59-.52 0-1.04.2-1.43.59L10.3 9.45l-7.72 7.72c-.78.78-.78 2.05 0 2.83L4 21.41c.39.39.9.59 1.41.59.51 0 1.02-.2 1.41-.59l7.78-7.78 2.81-2.81c.8-.78.8-2.07 0-2.86zM5.41 20L4 18.59l7.72-7.72 1.47 1.35L5.41 20z\"/>\n",
              "  </svg>\n",
              "      </button>\n",
              "\n",
              "\n",
              "\n",
              "    <div id=\"df-b1795b4d-7e17-4696-9286-f870e51238c5\">\n",
              "      <button class=\"colab-df-quickchart\" onclick=\"quickchart('df-b1795b4d-7e17-4696-9286-f870e51238c5')\"\n",
              "              title=\"Suggest charts.\"\n",
              "              style=\"display:none;\">\n",
              "\n",
              "<svg xmlns=\"http://www.w3.org/2000/svg\" height=\"24px\"viewBox=\"0 0 24 24\"\n",
              "     width=\"24px\">\n",
              "    <g>\n",
              "        <path d=\"M19 3H5c-1.1 0-2 .9-2 2v14c0 1.1.9 2 2 2h14c1.1 0 2-.9 2-2V5c0-1.1-.9-2-2-2zM9 17H7v-7h2v7zm4 0h-2V7h2v10zm4 0h-2v-4h2v4z\"/>\n",
              "    </g>\n",
              "</svg>\n",
              "      </button>\n",
              "    </div>\n",
              "\n",
              "<style>\n",
              "  .colab-df-quickchart {\n",
              "    background-color: #E8F0FE;\n",
              "    border: none;\n",
              "    border-radius: 50%;\n",
              "    cursor: pointer;\n",
              "    display: none;\n",
              "    fill: #1967D2;\n",
              "    height: 32px;\n",
              "    padding: 0 0 0 0;\n",
              "    width: 32px;\n",
              "  }\n",
              "\n",
              "  .colab-df-quickchart:hover {\n",
              "    background-color: #E2EBFA;\n",
              "    box-shadow: 0px 1px 2px rgba(60, 64, 67, 0.3), 0px 1px 3px 1px rgba(60, 64, 67, 0.15);\n",
              "    fill: #174EA6;\n",
              "  }\n",
              "\n",
              "  [theme=dark] .colab-df-quickchart {\n",
              "    background-color: #3B4455;\n",
              "    fill: #D2E3FC;\n",
              "  }\n",
              "\n",
              "  [theme=dark] .colab-df-quickchart:hover {\n",
              "    background-color: #434B5C;\n",
              "    box-shadow: 0px 1px 3px 1px rgba(0, 0, 0, 0.15);\n",
              "    filter: drop-shadow(0px 1px 2px rgba(0, 0, 0, 0.3));\n",
              "    fill: #FFFFFF;\n",
              "  }\n",
              "</style>\n",
              "\n",
              "    <script>\n",
              "      async function quickchart(key) {\n",
              "        const containerElement = document.querySelector('#' + key);\n",
              "        const charts = await google.colab.kernel.invokeFunction(\n",
              "            'suggestCharts', [key], {});\n",
              "      }\n",
              "    </script>\n",
              "\n",
              "      <script>\n",
              "\n",
              "function displayQuickchartButton(domScope) {\n",
              "  let quickchartButtonEl =\n",
              "    domScope.querySelector('#df-b1795b4d-7e17-4696-9286-f870e51238c5 button.colab-df-quickchart');\n",
              "  quickchartButtonEl.style.display =\n",
              "    google.colab.kernel.accessAllowed ? 'block' : 'none';\n",
              "}\n",
              "\n",
              "        displayQuickchartButton(document);\n",
              "      </script>\n",
              "      <style>\n",
              "    .colab-df-container {\n",
              "      display:flex;\n",
              "      flex-wrap:wrap;\n",
              "      gap: 12px;\n",
              "    }\n",
              "\n",
              "    .colab-df-convert {\n",
              "      background-color: #E8F0FE;\n",
              "      border: none;\n",
              "      border-radius: 50%;\n",
              "      cursor: pointer;\n",
              "      display: none;\n",
              "      fill: #1967D2;\n",
              "      height: 32px;\n",
              "      padding: 0 0 0 0;\n",
              "      width: 32px;\n",
              "    }\n",
              "\n",
              "    .colab-df-convert:hover {\n",
              "      background-color: #E2EBFA;\n",
              "      box-shadow: 0px 1px 2px rgba(60, 64, 67, 0.3), 0px 1px 3px 1px rgba(60, 64, 67, 0.15);\n",
              "      fill: #174EA6;\n",
              "    }\n",
              "\n",
              "    [theme=dark] .colab-df-convert {\n",
              "      background-color: #3B4455;\n",
              "      fill: #D2E3FC;\n",
              "    }\n",
              "\n",
              "    [theme=dark] .colab-df-convert:hover {\n",
              "      background-color: #434B5C;\n",
              "      box-shadow: 0px 1px 3px 1px rgba(0, 0, 0, 0.15);\n",
              "      filter: drop-shadow(0px 1px 2px rgba(0, 0, 0, 0.3));\n",
              "      fill: #FFFFFF;\n",
              "    }\n",
              "  </style>\n",
              "\n",
              "      <script>\n",
              "        const buttonEl =\n",
              "          document.querySelector('#df-e0adb470-fa54-43c2-96a3-d22cf8a83a90 button.colab-df-convert');\n",
              "        buttonEl.style.display =\n",
              "          google.colab.kernel.accessAllowed ? 'block' : 'none';\n",
              "\n",
              "        async function convertToInteractive(key) {\n",
              "          const element = document.querySelector('#df-e0adb470-fa54-43c2-96a3-d22cf8a83a90');\n",
              "          const dataTable =\n",
              "            await google.colab.kernel.invokeFunction('convertToInteractive',\n",
              "                                                     [key], {});\n",
              "          if (!dataTable) return;\n",
              "\n",
              "          const docLinkHtml = 'Like what you see? Visit the ' +\n",
              "            '<a target=\"_blank\" href=https://colab.research.google.com/notebooks/data_table.ipynb>data table notebook</a>'\n",
              "            + ' to learn more about interactive tables.';\n",
              "          element.innerHTML = '';\n",
              "          dataTable['output_type'] = 'display_data';\n",
              "          await google.colab.output.renderOutput(dataTable, element);\n",
              "          const docLink = document.createElement('div');\n",
              "          docLink.innerHTML = docLinkHtml;\n",
              "          element.appendChild(docLink);\n",
              "        }\n",
              "      </script>\n",
              "    </div>\n",
              "  </div>\n"
            ]
          },
          "metadata": {},
          "execution_count": 471
        }
      ]
    },
    {
      "cell_type": "markdown",
      "source": [
        "# MODEL BUILDING\n",
        "\n",
        "*   Decision Tree Classifier\n",
        "*   Naive Bayes\n",
        "*   Support Vector Machine\n",
        "\n",
        "\n",
        "\n",
        "\n"
      ],
      "metadata": {
        "id": "lg_wgmjriHSs"
      }
    },
    {
      "cell_type": "markdown",
      "source": [
        "**Dividing Datasets into Dependent and Independent Variables**"
      ],
      "metadata": {
        "id": "bKIWLnBfqyI8"
      }
    },
    {
      "cell_type": "code",
      "source": [
        "x=data.iloc[:,np.r_[1:5,9:11,13:15]].values #Dependent Variables\n",
        "y=data.iloc[:,12].values #Independent Variable"
      ],
      "metadata": {
        "id": "hRMgEg1eq7NV"
      },
      "execution_count": 472,
      "outputs": []
    },
    {
      "cell_type": "code",
      "source": [
        "x"
      ],
      "metadata": {
        "colab": {
          "base_uri": "https://localhost:8080/"
        },
        "id": "WN9sPRPfsetz",
        "outputId": "75adaef8-df01-4332-f94d-5bed74aafd13"
      },
      "execution_count": 473,
      "outputs": [
        {
          "output_type": "execute_result",
          "data": {
            "text/plain": [
              "array([['Male', 'No', '0', ..., 1.0, 4.852030263919617, 5849.0],\n",
              "       ['Male', 'Yes', '1', ..., 1.0, 4.852030263919617, 6091.0],\n",
              "       ['Male', 'Yes', '0', ..., 1.0, 4.189654742026425, 3000.0],\n",
              "       ...,\n",
              "       ['Male', 'Yes', '1', ..., 1.0, 5.53338948872752, 8312.0],\n",
              "       ['Male', 'Yes', '2', ..., 1.0, 5.231108616854587, 7583.0],\n",
              "       ['Female', 'No', '0', ..., 0.0, 4.890349128221754, 4583.0]],\n",
              "      dtype=object)"
            ]
          },
          "metadata": {},
          "execution_count": 473
        }
      ]
    },
    {
      "cell_type": "code",
      "source": [
        "y"
      ],
      "metadata": {
        "colab": {
          "base_uri": "https://localhost:8080/"
        },
        "id": "iXH_f9yasopb",
        "outputId": "dcb26acc-7800-49f5-fe10-baac0c1a0f7f"
      },
      "execution_count": 474,
      "outputs": [
        {
          "output_type": "execute_result",
          "data": {
            "text/plain": [
              "array(['Y', 'N', 'Y', 'Y', 'Y', 'Y', 'Y', 'N', 'Y', 'N', 'Y', 'Y', 'Y',\n",
              "       'N', 'Y', 'Y', 'Y', 'N', 'N', 'Y', 'N', 'Y', 'N', 'N', 'N', 'Y',\n",
              "       'Y', 'Y', 'N', 'Y', 'N', 'N', 'N', 'Y', 'N', 'Y', 'N', 'Y', 'Y',\n",
              "       'Y', 'N', 'Y', 'Y', 'Y', 'Y', 'Y', 'Y', 'Y', 'N', 'Y', 'Y', 'Y',\n",
              "       'N', 'N', 'N', 'Y', 'Y', 'N', 'Y', 'Y', 'Y', 'Y', 'N', 'N', 'N',\n",
              "       'N', 'N', 'Y', 'Y', 'N', 'Y', 'Y', 'Y', 'N', 'Y', 'N', 'N', 'N',\n",
              "       'N', 'Y', 'Y', 'Y', 'N', 'N', 'Y', 'Y', 'Y', 'Y', 'Y', 'Y', 'Y',\n",
              "       'Y', 'Y', 'Y', 'Y', 'N', 'Y', 'Y', 'Y', 'Y', 'Y', 'Y', 'Y', 'Y',\n",
              "       'Y', 'Y', 'Y', 'N', 'N', 'Y', 'Y', 'Y', 'N', 'Y', 'Y', 'Y', 'Y',\n",
              "       'Y', 'N', 'Y', 'Y', 'Y', 'Y', 'Y', 'Y', 'Y', 'Y', 'Y', 'N', 'N',\n",
              "       'Y', 'Y', 'Y', 'Y', 'Y', 'N', 'N', 'Y', 'N', 'N', 'N', 'Y', 'Y',\n",
              "       'Y', 'Y', 'Y', 'Y', 'Y', 'N', 'Y', 'N', 'Y', 'N', 'N', 'Y', 'Y',\n",
              "       'Y', 'Y', 'Y', 'Y', 'Y', 'N', 'N', 'Y', 'Y', 'Y', 'N', 'Y', 'N',\n",
              "       'Y', 'Y', 'Y', 'N', 'Y', 'N', 'Y', 'Y', 'N', 'Y', 'N', 'N', 'N',\n",
              "       'Y', 'N', 'Y', 'Y', 'N', 'Y', 'Y', 'Y', 'Y', 'N', 'N', 'Y', 'Y',\n",
              "       'N', 'Y', 'Y', 'Y', 'N', 'Y', 'Y', 'N', 'Y', 'Y', 'Y', 'Y', 'Y',\n",
              "       'Y', 'N', 'N', 'N', 'Y', 'Y', 'Y', 'Y', 'N', 'Y', 'N', 'Y', 'N',\n",
              "       'Y', 'Y', 'Y', 'Y', 'N', 'N', 'Y', 'Y', 'Y', 'Y', 'Y', 'Y', 'Y',\n",
              "       'Y', 'Y', 'N', 'Y', 'Y', 'Y', 'Y', 'N', 'Y', 'Y', 'Y', 'N', 'Y',\n",
              "       'Y', 'Y', 'Y', 'N', 'N', 'Y', 'Y', 'N', 'Y', 'N', 'N', 'N', 'N',\n",
              "       'Y', 'Y', 'N', 'Y', 'Y', 'Y', 'Y', 'Y', 'N', 'Y', 'Y', 'Y', 'Y',\n",
              "       'Y', 'Y', 'Y', 'Y', 'Y', 'Y', 'Y', 'N', 'Y', 'Y', 'Y', 'N', 'Y',\n",
              "       'N', 'Y', 'Y', 'Y', 'Y', 'N', 'Y', 'N', 'Y', 'Y', 'Y', 'Y', 'N',\n",
              "       'N', 'N', 'Y', 'Y', 'Y', 'Y', 'N', 'Y', 'N', 'N', 'Y', 'Y', 'Y',\n",
              "       'Y', 'Y', 'N', 'Y', 'Y', 'Y', 'Y', 'N', 'Y', 'Y', 'Y', 'Y', 'Y',\n",
              "       'N', 'Y', 'Y', 'N', 'Y', 'Y', 'Y', 'Y', 'Y', 'Y', 'Y', 'Y', 'Y',\n",
              "       'N', 'Y', 'N', 'N', 'Y', 'Y', 'Y', 'Y', 'N', 'Y', 'Y', 'Y', 'Y',\n",
              "       'N', 'Y', 'N', 'Y', 'Y', 'Y', 'N', 'N', 'Y', 'N', 'Y', 'Y', 'Y',\n",
              "       'Y', 'N', 'N', 'N', 'Y', 'N', 'Y', 'Y', 'Y', 'N', 'Y', 'Y', 'Y',\n",
              "       'Y', 'N', 'Y', 'Y', 'Y', 'Y', 'Y', 'N', 'Y', 'Y', 'N', 'Y', 'Y',\n",
              "       'Y', 'Y', 'Y', 'Y', 'Y', 'Y', 'N', 'Y', 'Y', 'N', 'N', 'N', 'Y',\n",
              "       'Y', 'N', 'Y', 'Y', 'Y', 'N', 'N', 'N', 'Y', 'N', 'Y', 'N', 'Y',\n",
              "       'N', 'N', 'Y', 'Y', 'Y', 'N', 'Y', 'N', 'Y', 'Y', 'N', 'Y', 'Y',\n",
              "       'Y', 'Y', 'N', 'Y', 'Y', 'Y', 'Y', 'Y', 'Y', 'N', 'Y', 'Y', 'Y',\n",
              "       'Y', 'Y', 'Y', 'Y', 'Y', 'N', 'N', 'N', 'N', 'Y', 'N', 'Y', 'Y',\n",
              "       'Y', 'Y', 'N', 'Y', 'N', 'Y', 'Y', 'Y', 'Y', 'N', 'Y', 'N', 'Y',\n",
              "       'Y', 'N', 'Y', 'N', 'Y', 'Y', 'Y', 'Y', 'Y', 'N', 'Y', 'N', 'Y',\n",
              "       'Y', 'Y', 'Y', 'Y', 'Y', 'N', 'N', 'Y', 'N', 'Y', 'Y', 'Y', 'Y',\n",
              "       'N', 'Y', 'Y', 'Y', 'Y', 'N', 'Y', 'Y', 'Y', 'N', 'Y', 'Y', 'Y',\n",
              "       'N', 'Y', 'Y', 'N', 'Y', 'Y', 'N', 'N', 'Y', 'Y', 'N', 'N', 'N',\n",
              "       'Y', 'Y', 'Y', 'Y', 'N', 'Y', 'Y', 'Y', 'Y', 'Y', 'Y', 'Y', 'N',\n",
              "       'N', 'Y', 'Y', 'Y', 'Y', 'N', 'Y', 'Y', 'N', 'Y', 'Y', 'Y', 'Y',\n",
              "       'N', 'Y', 'N', 'Y', 'N', 'Y', 'Y', 'N', 'N', 'Y', 'Y', 'Y', 'Y',\n",
              "       'Y', 'Y', 'Y', 'Y', 'Y', 'N', 'Y', 'Y', 'N', 'N', 'N', 'Y', 'N',\n",
              "       'Y', 'N', 'N', 'Y', 'N', 'Y', 'Y', 'Y', 'Y', 'N', 'Y', 'N', 'N',\n",
              "       'N', 'Y', 'Y', 'Y', 'N', 'Y', 'N', 'Y', 'Y', 'Y', 'Y', 'N', 'N',\n",
              "       'Y', 'Y', 'N', 'Y', 'Y', 'Y', 'Y', 'N', 'Y', 'Y', 'Y', 'Y', 'Y',\n",
              "       'Y', 'Y', 'N'], dtype=object)"
            ]
          },
          "metadata": {},
          "execution_count": 474
        }
      ]
    },
    {
      "cell_type": "markdown",
      "source": [
        "**Splitting the dataset into training and testing data**"
      ],
      "metadata": {
        "id": "7Q3V1WQhtJKJ"
      }
    },
    {
      "cell_type": "code",
      "source": [
        "from sklearn.model_selection import train_test_split\n",
        "x_train,x_test,y_train,y_test = train_test_split(x,y,test_size=0.2,random_state=0)"
      ],
      "metadata": {
        "id": "nn3k-_COszbh"
      },
      "execution_count": 475,
      "outputs": []
    },
    {
      "cell_type": "code",
      "source": [
        "print(x_train)"
      ],
      "metadata": {
        "colab": {
          "base_uri": "https://localhost:8080/"
        },
        "id": "Ph7RNYHftemc",
        "outputId": "9e0f460d-4a8b-4787-8a34-383286e8aed9"
      },
      "execution_count": 476,
      "outputs": [
        {
          "output_type": "stream",
          "name": "stdout",
          "text": [
            "[['Male' 'Yes' '0' ... 1.0 4.875197323201151 5858.0]\n",
            " ['Male' 'No' '1' ... 1.0 5.278114659230517 11250.0]\n",
            " ['Male' 'Yes' '0' ... 0.0 5.003946305945459 5681.0]\n",
            " ...\n",
            " ['Male' 'Yes' '3+' ... 1.0 5.298317366548036 8334.0]\n",
            " ['Male' 'Yes' '0' ... 1.0 5.075173815233827 6033.0]\n",
            " ['Female' 'Yes' '0' ... 1.0 5.204006687076795 6486.0]]\n"
          ]
        }
      ]
    },
    {
      "cell_type": "markdown",
      "source": [
        "**There are many categorical data in the train dataset - Using Label Encoder changing them to numerical values**"
      ],
      "metadata": {
        "id": "JHcdHFUbtpwl"
      }
    },
    {
      "cell_type": "code",
      "source": [
        "from sklearn.preprocessing import LabelEncoder\n",
        "labelencoder_x = LabelEncoder()"
      ],
      "metadata": {
        "id": "TmfIfQ43tm87"
      },
      "execution_count": 477,
      "outputs": []
    },
    {
      "cell_type": "code",
      "source": [
        "for i in range(0,5):\n",
        "  x_train[:,i] = labelencoder_x.fit_transform(x_train[:,i])"
      ],
      "metadata": {
        "id": "rOFP2nh2uNBC"
      },
      "execution_count": 478,
      "outputs": []
    },
    {
      "cell_type": "code",
      "source": [
        "x_train[:,7]=labelencoder_x.fit_transform(x_train[:,7])"
      ],
      "metadata": {
        "id": "v7z1MF88vEaX"
      },
      "execution_count": 479,
      "outputs": []
    },
    {
      "cell_type": "code",
      "source": [
        "x_train"
      ],
      "metadata": {
        "colab": {
          "base_uri": "https://localhost:8080/"
        },
        "id": "UbWzUChrwo4M",
        "outputId": "0a0b916d-b1c3-4fdc-be7d-74475080026d"
      },
      "execution_count": 480,
      "outputs": [
        {
          "output_type": "execute_result",
          "data": {
            "text/plain": [
              "array([[1, 1, 0, ..., 1.0, 4.875197323201151, 267],\n",
              "       [1, 0, 1, ..., 1.0, 5.278114659230517, 407],\n",
              "       [1, 1, 0, ..., 0.0, 5.003946305945459, 249],\n",
              "       ...,\n",
              "       [1, 1, 3, ..., 1.0, 5.298317366548036, 363],\n",
              "       [1, 1, 0, ..., 1.0, 5.075173815233827, 273],\n",
              "       [0, 1, 0, ..., 1.0, 5.204006687076795, 301]], dtype=object)"
            ]
          },
          "metadata": {},
          "execution_count": 480
        }
      ]
    },
    {
      "cell_type": "code",
      "source": [
        "labelencoder_y=LabelEncoder()\n",
        "y_train=labelencoder_x.fit_transform(y_train)"
      ],
      "metadata": {
        "id": "L0Vg4r7U0PEb"
      },
      "execution_count": 481,
      "outputs": []
    },
    {
      "cell_type": "code",
      "source": [
        "y_train"
      ],
      "metadata": {
        "colab": {
          "base_uri": "https://localhost:8080/"
        },
        "id": "6S3WIQ720mVE",
        "outputId": "aaed9872-ce90-45ca-a0ba-1a6e3f67e501"
      },
      "execution_count": 482,
      "outputs": [
        {
          "output_type": "execute_result",
          "data": {
            "text/plain": [
              "array([1, 0, 0, 1, 1, 0, 1, 1, 1, 0, 0, 1, 1, 1, 1, 1, 1, 1, 1, 0, 1, 1,\n",
              "       0, 1, 1, 0, 0, 1, 1, 1, 0, 1, 1, 1, 1, 1, 0, 1, 0, 1, 0, 1, 1, 1,\n",
              "       1, 0, 0, 0, 1, 1, 1, 0, 1, 1, 1, 1, 1, 1, 1, 1, 0, 1, 0, 1, 1, 0,\n",
              "       1, 1, 1, 1, 1, 0, 0, 1, 1, 0, 1, 0, 0, 1, 0, 0, 1, 1, 1, 1, 1, 1,\n",
              "       1, 1, 0, 1, 0, 1, 0, 1, 1, 1, 1, 0, 0, 1, 1, 1, 0, 1, 1, 0, 0, 0,\n",
              "       1, 1, 1, 0, 1, 0, 0, 1, 0, 0, 0, 1, 1, 1, 1, 1, 0, 0, 0, 0, 1, 1,\n",
              "       0, 1, 1, 1, 1, 1, 1, 0, 0, 1, 1, 1, 1, 1, 0, 1, 1, 1, 1, 1, 1, 1,\n",
              "       1, 1, 1, 0, 1, 1, 1, 1, 1, 1, 1, 1, 1, 1, 1, 0, 0, 1, 1, 1, 1, 0,\n",
              "       0, 1, 0, 1, 0, 0, 0, 1, 0, 1, 1, 1, 1, 1, 0, 0, 1, 0, 1, 1, 1, 1,\n",
              "       0, 0, 1, 1, 1, 1, 1, 0, 0, 1, 1, 1, 1, 0, 1, 1, 1, 1, 0, 0, 1, 1,\n",
              "       0, 1, 1, 1, 0, 1, 1, 1, 0, 1, 0, 1, 0, 1, 1, 0, 0, 0, 1, 0, 1, 1,\n",
              "       1, 1, 1, 0, 1, 1, 1, 1, 1, 1, 0, 1, 0, 1, 0, 1, 1, 1, 1, 1, 1, 1,\n",
              "       1, 1, 0, 0, 1, 0, 1, 1, 1, 0, 1, 1, 0, 1, 0, 1, 0, 1, 1, 1, 1, 1,\n",
              "       1, 1, 1, 1, 0, 1, 1, 0, 1, 1, 1, 0, 0, 1, 1, 1, 1, 0, 1, 0, 1, 1,\n",
              "       1, 1, 1, 0, 1, 0, 1, 0, 0, 1, 1, 0, 1, 1, 0, 1, 1, 0, 0, 1, 1, 1,\n",
              "       1, 1, 1, 0, 1, 1, 1, 0, 1, 0, 0, 0, 0, 1, 1, 1, 1, 0, 0, 1, 1, 1,\n",
              "       1, 0, 1, 0, 1, 1, 1, 1, 1, 0, 1, 1, 1, 1, 1, 1, 1, 0, 1, 0, 0, 0,\n",
              "       1, 1, 0, 1, 1, 1, 1, 0, 1, 1, 0, 1, 0, 0, 0, 1, 1, 1, 1, 1, 1, 1,\n",
              "       1, 0, 1, 0, 1, 1, 1, 0, 1, 1, 1, 0, 0, 1, 1, 1, 1, 0, 1, 1, 1, 1,\n",
              "       1, 1, 0, 1, 0, 1, 0, 1, 1, 0, 0, 1, 1, 0, 1, 1, 1, 1, 1, 1, 1, 0,\n",
              "       1, 1, 0, 0, 1, 0, 1, 1, 1, 1, 1, 1, 1, 0, 0, 1, 0, 0, 0, 0, 0, 1,\n",
              "       1, 1, 1, 1, 1, 0, 1, 0, 1, 0, 0, 1, 1, 1, 0, 1, 1, 0, 0, 0, 0, 1,\n",
              "       1, 1, 1, 0, 1, 0, 1])"
            ]
          },
          "metadata": {},
          "execution_count": 482
        }
      ]
    },
    {
      "cell_type": "code",
      "source": [
        "for i in range(0,5):\n",
        "  x_test[:,i]=labelencoder_x.fit_transform(x_test[:,i])"
      ],
      "metadata": {
        "id": "bc6mf8nI0qPW"
      },
      "execution_count": 483,
      "outputs": []
    },
    {
      "cell_type": "code",
      "source": [
        "x_test[:,7]=labelencoder_x.fit_transform(x_test[:,7])"
      ],
      "metadata": {
        "id": "k4Mt3EgY1EH-"
      },
      "execution_count": 484,
      "outputs": []
    },
    {
      "cell_type": "code",
      "source": [
        "y_test=labelencoder_y.fit_transform(y_test)"
      ],
      "metadata": {
        "id": "xHFeywYb1ZhK"
      },
      "execution_count": 485,
      "outputs": []
    },
    {
      "cell_type": "code",
      "source": [
        "y_test"
      ],
      "metadata": {
        "colab": {
          "base_uri": "https://localhost:8080/"
        },
        "id": "2wEKQMNoClNh",
        "outputId": "ebdfa8b3-8883-402d-deed-76a1bde481ba"
      },
      "execution_count": 486,
      "outputs": [
        {
          "output_type": "execute_result",
          "data": {
            "text/plain": [
              "array([1, 0, 1, 0, 1, 0, 1, 1, 0, 1, 1, 1, 1, 1, 1, 0, 0, 1, 1, 0, 0, 1,\n",
              "       1, 1, 1, 1, 1, 1, 0, 0, 1, 1, 1, 1, 1, 0, 1, 1, 1, 1, 1, 0, 1, 1,\n",
              "       1, 1, 1, 1, 0, 1, 1, 1, 1, 1, 1, 1, 1, 0, 1, 1, 1, 0, 1, 0, 1, 1,\n",
              "       1, 1, 1, 1, 0, 1, 1, 1, 1, 1, 0, 0, 1, 0, 1, 0, 0, 1, 0, 1, 1, 1,\n",
              "       1, 1, 1, 0, 0, 0, 1, 0, 1, 1, 1, 1, 1, 1, 1, 0, 1, 1, 1, 1, 1, 0,\n",
              "       1, 0, 0, 1, 0, 1, 1, 1, 1, 1, 1, 0, 1])"
            ]
          },
          "metadata": {},
          "execution_count": 486
        }
      ]
    },
    {
      "cell_type": "markdown",
      "source": [
        "**Scaling the Data **"
      ],
      "metadata": {
        "id": "1mGj5smqCyBH"
      }
    },
    {
      "cell_type": "code",
      "source": [
        "from sklearn.preprocessing import StandardScaler\n",
        "ss = StandardScaler()\n",
        "x_train = ss.fit_transform(x_train)\n",
        "x_test = ss.fit_transform(x_test)\n",
        "\n",
        "\n"
      ],
      "metadata": {
        "id": "DDQrc2fKDcLN"
      },
      "execution_count": 487,
      "outputs": []
    },
    {
      "cell_type": "markdown",
      "source": [
        "# **Decision Tree Classifier**"
      ],
      "metadata": {
        "id": "N3lHuibsEGmx"
      }
    },
    {
      "cell_type": "code",
      "source": [
        "from sklearn.tree import DecisionTreeClassifier\n",
        "\n",
        "DTClassifier= DecisionTreeClassifier(criterion='entropy',random_state=0)\n",
        "DTClassifier.fit(x_train,y_train)"
      ],
      "metadata": {
        "colab": {
          "base_uri": "https://localhost:8080/",
          "height": 74
        },
        "id": "JcsxAYJkELDc",
        "outputId": "eabdf62d-49bb-478b-dba2-0e5446c80292"
      },
      "execution_count": 488,
      "outputs": [
        {
          "output_type": "execute_result",
          "data": {
            "text/plain": [
              "DecisionTreeClassifier(criterion='entropy', random_state=0)"
            ],
            "text/html": [
              "<style>#sk-container-id-3 {color: black;background-color: white;}#sk-container-id-3 pre{padding: 0;}#sk-container-id-3 div.sk-toggleable {background-color: white;}#sk-container-id-3 label.sk-toggleable__label {cursor: pointer;display: block;width: 100%;margin-bottom: 0;padding: 0.3em;box-sizing: border-box;text-align: center;}#sk-container-id-3 label.sk-toggleable__label-arrow:before {content: \"▸\";float: left;margin-right: 0.25em;color: #696969;}#sk-container-id-3 label.sk-toggleable__label-arrow:hover:before {color: black;}#sk-container-id-3 div.sk-estimator:hover label.sk-toggleable__label-arrow:before {color: black;}#sk-container-id-3 div.sk-toggleable__content {max-height: 0;max-width: 0;overflow: hidden;text-align: left;background-color: #f0f8ff;}#sk-container-id-3 div.sk-toggleable__content pre {margin: 0.2em;color: black;border-radius: 0.25em;background-color: #f0f8ff;}#sk-container-id-3 input.sk-toggleable__control:checked~div.sk-toggleable__content {max-height: 200px;max-width: 100%;overflow: auto;}#sk-container-id-3 input.sk-toggleable__control:checked~label.sk-toggleable__label-arrow:before {content: \"▾\";}#sk-container-id-3 div.sk-estimator input.sk-toggleable__control:checked~label.sk-toggleable__label {background-color: #d4ebff;}#sk-container-id-3 div.sk-label input.sk-toggleable__control:checked~label.sk-toggleable__label {background-color: #d4ebff;}#sk-container-id-3 input.sk-hidden--visually {border: 0;clip: rect(1px 1px 1px 1px);clip: rect(1px, 1px, 1px, 1px);height: 1px;margin: -1px;overflow: hidden;padding: 0;position: absolute;width: 1px;}#sk-container-id-3 div.sk-estimator {font-family: monospace;background-color: #f0f8ff;border: 1px dotted black;border-radius: 0.25em;box-sizing: border-box;margin-bottom: 0.5em;}#sk-container-id-3 div.sk-estimator:hover {background-color: #d4ebff;}#sk-container-id-3 div.sk-parallel-item::after {content: \"\";width: 100%;border-bottom: 1px solid gray;flex-grow: 1;}#sk-container-id-3 div.sk-label:hover label.sk-toggleable__label {background-color: #d4ebff;}#sk-container-id-3 div.sk-serial::before {content: \"\";position: absolute;border-left: 1px solid gray;box-sizing: border-box;top: 0;bottom: 0;left: 50%;z-index: 0;}#sk-container-id-3 div.sk-serial {display: flex;flex-direction: column;align-items: center;background-color: white;padding-right: 0.2em;padding-left: 0.2em;position: relative;}#sk-container-id-3 div.sk-item {position: relative;z-index: 1;}#sk-container-id-3 div.sk-parallel {display: flex;align-items: stretch;justify-content: center;background-color: white;position: relative;}#sk-container-id-3 div.sk-item::before, #sk-container-id-3 div.sk-parallel-item::before {content: \"\";position: absolute;border-left: 1px solid gray;box-sizing: border-box;top: 0;bottom: 0;left: 50%;z-index: -1;}#sk-container-id-3 div.sk-parallel-item {display: flex;flex-direction: column;z-index: 1;position: relative;background-color: white;}#sk-container-id-3 div.sk-parallel-item:first-child::after {align-self: flex-end;width: 50%;}#sk-container-id-3 div.sk-parallel-item:last-child::after {align-self: flex-start;width: 50%;}#sk-container-id-3 div.sk-parallel-item:only-child::after {width: 0;}#sk-container-id-3 div.sk-dashed-wrapped {border: 1px dashed gray;margin: 0 0.4em 0.5em 0.4em;box-sizing: border-box;padding-bottom: 0.4em;background-color: white;}#sk-container-id-3 div.sk-label label {font-family: monospace;font-weight: bold;display: inline-block;line-height: 1.2em;}#sk-container-id-3 div.sk-label-container {text-align: center;}#sk-container-id-3 div.sk-container {/* jupyter's `normalize.less` sets `[hidden] { display: none; }` but bootstrap.min.css set `[hidden] { display: none !important; }` so we also need the `!important` here to be able to override the default hidden behavior on the sphinx rendered scikit-learn.org. See: https://github.com/scikit-learn/scikit-learn/issues/21755 */display: inline-block !important;position: relative;}#sk-container-id-3 div.sk-text-repr-fallback {display: none;}</style><div id=\"sk-container-id-3\" class=\"sk-top-container\"><div class=\"sk-text-repr-fallback\"><pre>DecisionTreeClassifier(criterion=&#x27;entropy&#x27;, random_state=0)</pre><b>In a Jupyter environment, please rerun this cell to show the HTML representation or trust the notebook. <br />On GitHub, the HTML representation is unable to render, please try loading this page with nbviewer.org.</b></div><div class=\"sk-container\" hidden><div class=\"sk-item\"><div class=\"sk-estimator sk-toggleable\"><input class=\"sk-toggleable__control sk-hidden--visually\" id=\"sk-estimator-id-3\" type=\"checkbox\" checked><label for=\"sk-estimator-id-3\" class=\"sk-toggleable__label sk-toggleable__label-arrow\">DecisionTreeClassifier</label><div class=\"sk-toggleable__content\"><pre>DecisionTreeClassifier(criterion=&#x27;entropy&#x27;, random_state=0)</pre></div></div></div></div></div>"
            ]
          },
          "metadata": {},
          "execution_count": 488
        }
      ]
    },
    {
      "cell_type": "code",
      "source": [
        "y_pred=DTClassifier.predict(x_test)\n",
        "y_pred"
      ],
      "metadata": {
        "colab": {
          "base_uri": "https://localhost:8080/"
        },
        "id": "sud76_y3FcLb",
        "outputId": "0d2f1dea-66e9-45db-e33f-de73bd0f797f"
      },
      "execution_count": 489,
      "outputs": [
        {
          "output_type": "execute_result",
          "data": {
            "text/plain": [
              "array([0, 1, 0, 1, 1, 1, 0, 0, 0, 1, 1, 0, 0, 1, 1, 1, 0, 1, 1, 0, 0, 1,\n",
              "       1, 1, 1, 1, 1, 1, 0, 0, 0, 1, 0, 1, 1, 0, 1, 1, 0, 1, 1, 0, 0, 1,\n",
              "       1, 1, 1, 0, 0, 0, 1, 1, 1, 1, 1, 0, 0, 0, 1, 1, 0, 0, 1, 0, 1, 1,\n",
              "       1, 1, 1, 1, 1, 1, 1, 0, 1, 1, 1, 0, 1, 0, 1, 1, 0, 1, 1, 1, 1, 1,\n",
              "       1, 0, 0, 1, 0, 0, 1, 0, 0, 1, 0, 1, 1, 0, 1, 1, 1, 1, 0, 1, 1, 1,\n",
              "       1, 0, 1, 1, 0, 0, 1, 1, 0, 1, 0, 0, 1])"
            ]
          },
          "metadata": {},
          "execution_count": 489
        }
      ]
    },
    {
      "cell_type": "code",
      "source": [
        "from sklearn import metrics\n",
        "print(\"The accuracy of the decision tree is : \",metrics.accuracy_score(y_pred,y_test))"
      ],
      "metadata": {
        "colab": {
          "base_uri": "https://localhost:8080/"
        },
        "id": "1nNsIpJvHBe2",
        "outputId": "4f9b3323-c77e-46e5-9a21-cf1a061de4b5"
      },
      "execution_count": 490,
      "outputs": [
        {
          "output_type": "stream",
          "name": "stdout",
          "text": [
            "The accuracy of the decision tree is :  0.6991869918699187\n"
          ]
        }
      ]
    },
    {
      "cell_type": "markdown",
      "source": [
        "# **Naives Bayes Algorithm**"
      ],
      "metadata": {
        "id": "1hTpW97rILfv"
      }
    },
    {
      "cell_type": "code",
      "source": [
        "from sklearn.naive_bayes import GaussianNB\n",
        "NBClassifier = GaussianNB()\n",
        "NBClassifier.fit(x_train,y_train)"
      ],
      "metadata": {
        "colab": {
          "base_uri": "https://localhost:8080/",
          "height": 74
        },
        "id": "qpnZAdrVIQN8",
        "outputId": "f45edad3-f75c-476f-d9af-cad33d66da74"
      },
      "execution_count": 491,
      "outputs": [
        {
          "output_type": "execute_result",
          "data": {
            "text/plain": [
              "GaussianNB()"
            ],
            "text/html": [
              "<style>#sk-container-id-4 {color: black;background-color: white;}#sk-container-id-4 pre{padding: 0;}#sk-container-id-4 div.sk-toggleable {background-color: white;}#sk-container-id-4 label.sk-toggleable__label {cursor: pointer;display: block;width: 100%;margin-bottom: 0;padding: 0.3em;box-sizing: border-box;text-align: center;}#sk-container-id-4 label.sk-toggleable__label-arrow:before {content: \"▸\";float: left;margin-right: 0.25em;color: #696969;}#sk-container-id-4 label.sk-toggleable__label-arrow:hover:before {color: black;}#sk-container-id-4 div.sk-estimator:hover label.sk-toggleable__label-arrow:before {color: black;}#sk-container-id-4 div.sk-toggleable__content {max-height: 0;max-width: 0;overflow: hidden;text-align: left;background-color: #f0f8ff;}#sk-container-id-4 div.sk-toggleable__content pre {margin: 0.2em;color: black;border-radius: 0.25em;background-color: #f0f8ff;}#sk-container-id-4 input.sk-toggleable__control:checked~div.sk-toggleable__content {max-height: 200px;max-width: 100%;overflow: auto;}#sk-container-id-4 input.sk-toggleable__control:checked~label.sk-toggleable__label-arrow:before {content: \"▾\";}#sk-container-id-4 div.sk-estimator input.sk-toggleable__control:checked~label.sk-toggleable__label {background-color: #d4ebff;}#sk-container-id-4 div.sk-label input.sk-toggleable__control:checked~label.sk-toggleable__label {background-color: #d4ebff;}#sk-container-id-4 input.sk-hidden--visually {border: 0;clip: rect(1px 1px 1px 1px);clip: rect(1px, 1px, 1px, 1px);height: 1px;margin: -1px;overflow: hidden;padding: 0;position: absolute;width: 1px;}#sk-container-id-4 div.sk-estimator {font-family: monospace;background-color: #f0f8ff;border: 1px dotted black;border-radius: 0.25em;box-sizing: border-box;margin-bottom: 0.5em;}#sk-container-id-4 div.sk-estimator:hover {background-color: #d4ebff;}#sk-container-id-4 div.sk-parallel-item::after {content: \"\";width: 100%;border-bottom: 1px solid gray;flex-grow: 1;}#sk-container-id-4 div.sk-label:hover label.sk-toggleable__label {background-color: #d4ebff;}#sk-container-id-4 div.sk-serial::before {content: \"\";position: absolute;border-left: 1px solid gray;box-sizing: border-box;top: 0;bottom: 0;left: 50%;z-index: 0;}#sk-container-id-4 div.sk-serial {display: flex;flex-direction: column;align-items: center;background-color: white;padding-right: 0.2em;padding-left: 0.2em;position: relative;}#sk-container-id-4 div.sk-item {position: relative;z-index: 1;}#sk-container-id-4 div.sk-parallel {display: flex;align-items: stretch;justify-content: center;background-color: white;position: relative;}#sk-container-id-4 div.sk-item::before, #sk-container-id-4 div.sk-parallel-item::before {content: \"\";position: absolute;border-left: 1px solid gray;box-sizing: border-box;top: 0;bottom: 0;left: 50%;z-index: -1;}#sk-container-id-4 div.sk-parallel-item {display: flex;flex-direction: column;z-index: 1;position: relative;background-color: white;}#sk-container-id-4 div.sk-parallel-item:first-child::after {align-self: flex-end;width: 50%;}#sk-container-id-4 div.sk-parallel-item:last-child::after {align-self: flex-start;width: 50%;}#sk-container-id-4 div.sk-parallel-item:only-child::after {width: 0;}#sk-container-id-4 div.sk-dashed-wrapped {border: 1px dashed gray;margin: 0 0.4em 0.5em 0.4em;box-sizing: border-box;padding-bottom: 0.4em;background-color: white;}#sk-container-id-4 div.sk-label label {font-family: monospace;font-weight: bold;display: inline-block;line-height: 1.2em;}#sk-container-id-4 div.sk-label-container {text-align: center;}#sk-container-id-4 div.sk-container {/* jupyter's `normalize.less` sets `[hidden] { display: none; }` but bootstrap.min.css set `[hidden] { display: none !important; }` so we also need the `!important` here to be able to override the default hidden behavior on the sphinx rendered scikit-learn.org. See: https://github.com/scikit-learn/scikit-learn/issues/21755 */display: inline-block !important;position: relative;}#sk-container-id-4 div.sk-text-repr-fallback {display: none;}</style><div id=\"sk-container-id-4\" class=\"sk-top-container\"><div class=\"sk-text-repr-fallback\"><pre>GaussianNB()</pre><b>In a Jupyter environment, please rerun this cell to show the HTML representation or trust the notebook. <br />On GitHub, the HTML representation is unable to render, please try loading this page with nbviewer.org.</b></div><div class=\"sk-container\" hidden><div class=\"sk-item\"><div class=\"sk-estimator sk-toggleable\"><input class=\"sk-toggleable__control sk-hidden--visually\" id=\"sk-estimator-id-4\" type=\"checkbox\" checked><label for=\"sk-estimator-id-4\" class=\"sk-toggleable__label sk-toggleable__label-arrow\">GaussianNB</label><div class=\"sk-toggleable__content\"><pre>GaussianNB()</pre></div></div></div></div></div>"
            ]
          },
          "metadata": {},
          "execution_count": 491
        }
      ]
    },
    {
      "cell_type": "code",
      "source": [
        "y_pred = NBClassifier.predict(x_test)\n",
        "y_pred"
      ],
      "metadata": {
        "colab": {
          "base_uri": "https://localhost:8080/"
        },
        "id": "dVpADaJqJN7L",
        "outputId": "054d5b88-24aa-4974-b52e-0b03680f027c"
      },
      "execution_count": 492,
      "outputs": [
        {
          "output_type": "execute_result",
          "data": {
            "text/plain": [
              "array([1, 1, 1, 1, 1, 0, 1, 1, 0, 1, 1, 1, 1, 1, 1, 1, 1, 1, 1, 0, 0, 1,\n",
              "       1, 1, 1, 1, 1, 1, 0, 0, 1, 1, 1, 1, 1, 0, 1, 1, 1, 1, 1, 0, 1, 1,\n",
              "       1, 1, 1, 1, 1, 1, 1, 1, 1, 1, 1, 1, 1, 1, 1, 1, 0, 1, 1, 0, 1, 1,\n",
              "       1, 1, 1, 1, 1, 1, 1, 1, 1, 1, 1, 1, 1, 0, 1, 1, 1, 1, 1, 1, 1, 1,\n",
              "       1, 1, 1, 1, 1, 0, 1, 0, 1, 1, 1, 1, 1, 1, 1, 1, 1, 1, 1, 1, 1, 1,\n",
              "       1, 1, 1, 1, 0, 0, 1, 1, 1, 1, 1, 0, 1])"
            ]
          },
          "metadata": {},
          "execution_count": 492
        }
      ]
    },
    {
      "cell_type": "code",
      "source": [
        "print(\"The accuracy of Naive Bayes is : \",metrics.accuracy_score(y_pred,y_test))"
      ],
      "metadata": {
        "colab": {
          "base_uri": "https://localhost:8080/"
        },
        "id": "o-sjsg4DRmwm",
        "outputId": "d147c0d1-43d6-424c-dd82-ef33067183ba"
      },
      "execution_count": 493,
      "outputs": [
        {
          "output_type": "stream",
          "name": "stdout",
          "text": [
            "The accuracy of Naive Bayes is :  0.8292682926829268\n"
          ]
        }
      ]
    },
    {
      "cell_type": "markdown",
      "source": [
        "# **SUPPORT VECTOR MACHINE**"
      ],
      "metadata": {
        "id": "WJDHNV7yjpXH"
      }
    },
    {
      "cell_type": "code",
      "source": [
        "#importing library\n",
        "from sklearn import svm"
      ],
      "metadata": {
        "id": "SYBsugoKjtft"
      },
      "execution_count": 516,
      "outputs": []
    },
    {
      "cell_type": "code",
      "source": [
        "SVMClassifier=svm.SVC(kernel='linear')"
      ],
      "metadata": {
        "id": "bAXMBR-_j_c7"
      },
      "execution_count": 517,
      "outputs": []
    },
    {
      "cell_type": "code",
      "source": [
        "#Training classifier on training data\n",
        "SVMClassifier.fit(x_train,y_train)\n",
        "\n"
      ],
      "metadata": {
        "colab": {
          "base_uri": "https://localhost:8080/",
          "height": 74
        },
        "id": "2NN7JD0DkKjd",
        "outputId": "d28970df-95e3-4d2b-c0bb-e0b9b10ef31a"
      },
      "execution_count": 519,
      "outputs": [
        {
          "output_type": "execute_result",
          "data": {
            "text/plain": [
              "SVC(kernel='linear')"
            ],
            "text/html": [
              "<style>#sk-container-id-5 {color: black;background-color: white;}#sk-container-id-5 pre{padding: 0;}#sk-container-id-5 div.sk-toggleable {background-color: white;}#sk-container-id-5 label.sk-toggleable__label {cursor: pointer;display: block;width: 100%;margin-bottom: 0;padding: 0.3em;box-sizing: border-box;text-align: center;}#sk-container-id-5 label.sk-toggleable__label-arrow:before {content: \"▸\";float: left;margin-right: 0.25em;color: #696969;}#sk-container-id-5 label.sk-toggleable__label-arrow:hover:before {color: black;}#sk-container-id-5 div.sk-estimator:hover label.sk-toggleable__label-arrow:before {color: black;}#sk-container-id-5 div.sk-toggleable__content {max-height: 0;max-width: 0;overflow: hidden;text-align: left;background-color: #f0f8ff;}#sk-container-id-5 div.sk-toggleable__content pre {margin: 0.2em;color: black;border-radius: 0.25em;background-color: #f0f8ff;}#sk-container-id-5 input.sk-toggleable__control:checked~div.sk-toggleable__content {max-height: 200px;max-width: 100%;overflow: auto;}#sk-container-id-5 input.sk-toggleable__control:checked~label.sk-toggleable__label-arrow:before {content: \"▾\";}#sk-container-id-5 div.sk-estimator input.sk-toggleable__control:checked~label.sk-toggleable__label {background-color: #d4ebff;}#sk-container-id-5 div.sk-label input.sk-toggleable__control:checked~label.sk-toggleable__label {background-color: #d4ebff;}#sk-container-id-5 input.sk-hidden--visually {border: 0;clip: rect(1px 1px 1px 1px);clip: rect(1px, 1px, 1px, 1px);height: 1px;margin: -1px;overflow: hidden;padding: 0;position: absolute;width: 1px;}#sk-container-id-5 div.sk-estimator {font-family: monospace;background-color: #f0f8ff;border: 1px dotted black;border-radius: 0.25em;box-sizing: border-box;margin-bottom: 0.5em;}#sk-container-id-5 div.sk-estimator:hover {background-color: #d4ebff;}#sk-container-id-5 div.sk-parallel-item::after {content: \"\";width: 100%;border-bottom: 1px solid gray;flex-grow: 1;}#sk-container-id-5 div.sk-label:hover label.sk-toggleable__label {background-color: #d4ebff;}#sk-container-id-5 div.sk-serial::before {content: \"\";position: absolute;border-left: 1px solid gray;box-sizing: border-box;top: 0;bottom: 0;left: 50%;z-index: 0;}#sk-container-id-5 div.sk-serial {display: flex;flex-direction: column;align-items: center;background-color: white;padding-right: 0.2em;padding-left: 0.2em;position: relative;}#sk-container-id-5 div.sk-item {position: relative;z-index: 1;}#sk-container-id-5 div.sk-parallel {display: flex;align-items: stretch;justify-content: center;background-color: white;position: relative;}#sk-container-id-5 div.sk-item::before, #sk-container-id-5 div.sk-parallel-item::before {content: \"\";position: absolute;border-left: 1px solid gray;box-sizing: border-box;top: 0;bottom: 0;left: 50%;z-index: -1;}#sk-container-id-5 div.sk-parallel-item {display: flex;flex-direction: column;z-index: 1;position: relative;background-color: white;}#sk-container-id-5 div.sk-parallel-item:first-child::after {align-self: flex-end;width: 50%;}#sk-container-id-5 div.sk-parallel-item:last-child::after {align-self: flex-start;width: 50%;}#sk-container-id-5 div.sk-parallel-item:only-child::after {width: 0;}#sk-container-id-5 div.sk-dashed-wrapped {border: 1px dashed gray;margin: 0 0.4em 0.5em 0.4em;box-sizing: border-box;padding-bottom: 0.4em;background-color: white;}#sk-container-id-5 div.sk-label label {font-family: monospace;font-weight: bold;display: inline-block;line-height: 1.2em;}#sk-container-id-5 div.sk-label-container {text-align: center;}#sk-container-id-5 div.sk-container {/* jupyter's `normalize.less` sets `[hidden] { display: none; }` but bootstrap.min.css set `[hidden] { display: none !important; }` so we also need the `!important` here to be able to override the default hidden behavior on the sphinx rendered scikit-learn.org. See: https://github.com/scikit-learn/scikit-learn/issues/21755 */display: inline-block !important;position: relative;}#sk-container-id-5 div.sk-text-repr-fallback {display: none;}</style><div id=\"sk-container-id-5\" class=\"sk-top-container\"><div class=\"sk-text-repr-fallback\"><pre>SVC(kernel=&#x27;linear&#x27;)</pre><b>In a Jupyter environment, please rerun this cell to show the HTML representation or trust the notebook. <br />On GitHub, the HTML representation is unable to render, please try loading this page with nbviewer.org.</b></div><div class=\"sk-container\" hidden><div class=\"sk-item\"><div class=\"sk-estimator sk-toggleable\"><input class=\"sk-toggleable__control sk-hidden--visually\" id=\"sk-estimator-id-5\" type=\"checkbox\" checked><label for=\"sk-estimator-id-5\" class=\"sk-toggleable__label sk-toggleable__label-arrow\">SVC</label><div class=\"sk-toggleable__content\"><pre>SVC(kernel=&#x27;linear&#x27;)</pre></div></div></div></div></div>"
            ]
          },
          "metadata": {},
          "execution_count": 519
        }
      ]
    },
    {
      "cell_type": "code",
      "source": [
        "y_pred = SVMClassifier.predict(x_test)"
      ],
      "metadata": {
        "id": "J0bOi4CGki9X"
      },
      "execution_count": 520,
      "outputs": []
    },
    {
      "cell_type": "code",
      "source": [
        "print(\"The accuracy of SVM is : \",metrics.accuracy_score(y_test,y_pred))"
      ],
      "metadata": {
        "colab": {
          "base_uri": "https://localhost:8080/"
        },
        "id": "fPWS0ppzkvjJ",
        "outputId": "478cab02-f987-4f4a-c98d-06bce02c8737"
      },
      "execution_count": 522,
      "outputs": [
        {
          "output_type": "stream",
          "name": "stdout",
          "text": [
            "The accuracy of SVM is :  0.8292682926829268\n"
          ]
        }
      ]
    },
    {
      "cell_type": "markdown",
      "source": [
        "# **Random Forest Classifier**"
      ],
      "metadata": {
        "id": "cUQT630QlijE"
      }
    },
    {
      "cell_type": "code",
      "source": [
        "from sklearn.ensemble import RandomForestClassifier"
      ],
      "metadata": {
        "id": "ZAvHN0Hlluct"
      },
      "execution_count": 523,
      "outputs": []
    },
    {
      "cell_type": "code",
      "source": [
        "RFClassifier = RandomForestClassifier(n_estimators=100,random_state=42)"
      ],
      "metadata": {
        "id": "1a6DUFGNl3ZQ"
      },
      "execution_count": 524,
      "outputs": []
    },
    {
      "cell_type": "code",
      "source": [
        "RFClassifier.fit(x_train,y_train)"
      ],
      "metadata": {
        "colab": {
          "base_uri": "https://localhost:8080/",
          "height": 74
        },
        "id": "1eryopFZmNUQ",
        "outputId": "fbcdd8c6-3f13-4c9e-e826-e76c4f48f646"
      },
      "execution_count": 525,
      "outputs": [
        {
          "output_type": "execute_result",
          "data": {
            "text/plain": [
              "RandomForestClassifier(random_state=42)"
            ],
            "text/html": [
              "<style>#sk-container-id-6 {color: black;background-color: white;}#sk-container-id-6 pre{padding: 0;}#sk-container-id-6 div.sk-toggleable {background-color: white;}#sk-container-id-6 label.sk-toggleable__label {cursor: pointer;display: block;width: 100%;margin-bottom: 0;padding: 0.3em;box-sizing: border-box;text-align: center;}#sk-container-id-6 label.sk-toggleable__label-arrow:before {content: \"▸\";float: left;margin-right: 0.25em;color: #696969;}#sk-container-id-6 label.sk-toggleable__label-arrow:hover:before {color: black;}#sk-container-id-6 div.sk-estimator:hover label.sk-toggleable__label-arrow:before {color: black;}#sk-container-id-6 div.sk-toggleable__content {max-height: 0;max-width: 0;overflow: hidden;text-align: left;background-color: #f0f8ff;}#sk-container-id-6 div.sk-toggleable__content pre {margin: 0.2em;color: black;border-radius: 0.25em;background-color: #f0f8ff;}#sk-container-id-6 input.sk-toggleable__control:checked~div.sk-toggleable__content {max-height: 200px;max-width: 100%;overflow: auto;}#sk-container-id-6 input.sk-toggleable__control:checked~label.sk-toggleable__label-arrow:before {content: \"▾\";}#sk-container-id-6 div.sk-estimator input.sk-toggleable__control:checked~label.sk-toggleable__label {background-color: #d4ebff;}#sk-container-id-6 div.sk-label input.sk-toggleable__control:checked~label.sk-toggleable__label {background-color: #d4ebff;}#sk-container-id-6 input.sk-hidden--visually {border: 0;clip: rect(1px 1px 1px 1px);clip: rect(1px, 1px, 1px, 1px);height: 1px;margin: -1px;overflow: hidden;padding: 0;position: absolute;width: 1px;}#sk-container-id-6 div.sk-estimator {font-family: monospace;background-color: #f0f8ff;border: 1px dotted black;border-radius: 0.25em;box-sizing: border-box;margin-bottom: 0.5em;}#sk-container-id-6 div.sk-estimator:hover {background-color: #d4ebff;}#sk-container-id-6 div.sk-parallel-item::after {content: \"\";width: 100%;border-bottom: 1px solid gray;flex-grow: 1;}#sk-container-id-6 div.sk-label:hover label.sk-toggleable__label {background-color: #d4ebff;}#sk-container-id-6 div.sk-serial::before {content: \"\";position: absolute;border-left: 1px solid gray;box-sizing: border-box;top: 0;bottom: 0;left: 50%;z-index: 0;}#sk-container-id-6 div.sk-serial {display: flex;flex-direction: column;align-items: center;background-color: white;padding-right: 0.2em;padding-left: 0.2em;position: relative;}#sk-container-id-6 div.sk-item {position: relative;z-index: 1;}#sk-container-id-6 div.sk-parallel {display: flex;align-items: stretch;justify-content: center;background-color: white;position: relative;}#sk-container-id-6 div.sk-item::before, #sk-container-id-6 div.sk-parallel-item::before {content: \"\";position: absolute;border-left: 1px solid gray;box-sizing: border-box;top: 0;bottom: 0;left: 50%;z-index: -1;}#sk-container-id-6 div.sk-parallel-item {display: flex;flex-direction: column;z-index: 1;position: relative;background-color: white;}#sk-container-id-6 div.sk-parallel-item:first-child::after {align-self: flex-end;width: 50%;}#sk-container-id-6 div.sk-parallel-item:last-child::after {align-self: flex-start;width: 50%;}#sk-container-id-6 div.sk-parallel-item:only-child::after {width: 0;}#sk-container-id-6 div.sk-dashed-wrapped {border: 1px dashed gray;margin: 0 0.4em 0.5em 0.4em;box-sizing: border-box;padding-bottom: 0.4em;background-color: white;}#sk-container-id-6 div.sk-label label {font-family: monospace;font-weight: bold;display: inline-block;line-height: 1.2em;}#sk-container-id-6 div.sk-label-container {text-align: center;}#sk-container-id-6 div.sk-container {/* jupyter's `normalize.less` sets `[hidden] { display: none; }` but bootstrap.min.css set `[hidden] { display: none !important; }` so we also need the `!important` here to be able to override the default hidden behavior on the sphinx rendered scikit-learn.org. See: https://github.com/scikit-learn/scikit-learn/issues/21755 */display: inline-block !important;position: relative;}#sk-container-id-6 div.sk-text-repr-fallback {display: none;}</style><div id=\"sk-container-id-6\" class=\"sk-top-container\"><div class=\"sk-text-repr-fallback\"><pre>RandomForestClassifier(random_state=42)</pre><b>In a Jupyter environment, please rerun this cell to show the HTML representation or trust the notebook. <br />On GitHub, the HTML representation is unable to render, please try loading this page with nbviewer.org.</b></div><div class=\"sk-container\" hidden><div class=\"sk-item\"><div class=\"sk-estimator sk-toggleable\"><input class=\"sk-toggleable__control sk-hidden--visually\" id=\"sk-estimator-id-6\" type=\"checkbox\" checked><label for=\"sk-estimator-id-6\" class=\"sk-toggleable__label sk-toggleable__label-arrow\">RandomForestClassifier</label><div class=\"sk-toggleable__content\"><pre>RandomForestClassifier(random_state=42)</pre></div></div></div></div></div>"
            ]
          },
          "metadata": {},
          "execution_count": 525
        }
      ]
    },
    {
      "cell_type": "code",
      "source": [
        "y_pred = RFClassifier.predict(x_test)"
      ],
      "metadata": {
        "id": "1FegfKR-mUbh"
      },
      "execution_count": 527,
      "outputs": []
    },
    {
      "cell_type": "code",
      "source": [
        "print(\"The accuracy of Random Forest Classifier is : \" ,metrics.accuracy_score(y_pred,y_test))"
      ],
      "metadata": {
        "colab": {
          "base_uri": "https://localhost:8080/"
        },
        "id": "3bJ0R_HDmg8S",
        "outputId": "16353d55-e538-48c8-a534-fb8913a5f050"
      },
      "execution_count": 529,
      "outputs": [
        {
          "output_type": "stream",
          "name": "stdout",
          "text": [
            "The accuracy of Random Forest Classifier is :  0.7804878048780488\n"
          ]
        }
      ]
    },
    {
      "cell_type": "markdown",
      "source": [
        "# **Importing test dataset**"
      ],
      "metadata": {
        "id": "p1szSG-PR7qY"
      }
    },
    {
      "cell_type": "code",
      "source": [
        "testdata=pd.read_csv(\"/content/test_Y3wMUE5_7gLdaTN.csv\")"
      ],
      "metadata": {
        "id": "Vs3bweHcSrId"
      },
      "execution_count": 494,
      "outputs": []
    },
    {
      "cell_type": "code",
      "source": [
        "testdata.head()"
      ],
      "metadata": {
        "colab": {
          "base_uri": "https://localhost:8080/",
          "height": 287
        },
        "id": "iTPdGg3XR1Ki",
        "outputId": "02de42c0-e5b8-4e06-8bd2-a981961269d2"
      },
      "execution_count": 495,
      "outputs": [
        {
          "output_type": "execute_result",
          "data": {
            "text/plain": [
              "    Loan_ID Gender Married Dependents     Education Self_Employed  \\\n",
              "0  LP001015   Male     Yes          0      Graduate            No   \n",
              "1  LP001022   Male     Yes          1      Graduate            No   \n",
              "2  LP001031   Male     Yes          2      Graduate            No   \n",
              "3  LP001035   Male     Yes          2      Graduate            No   \n",
              "4  LP001051   Male      No          0  Not Graduate            No   \n",
              "\n",
              "   ApplicantIncome  CoapplicantIncome  LoanAmount  Loan_Amount_Term  \\\n",
              "0             5720                  0       110.0             360.0   \n",
              "1             3076               1500       126.0             360.0   \n",
              "2             5000               1800       208.0             360.0   \n",
              "3             2340               2546       100.0             360.0   \n",
              "4             3276                  0        78.0             360.0   \n",
              "\n",
              "   Credit_History Property_Area  \n",
              "0             1.0         Urban  \n",
              "1             1.0         Urban  \n",
              "2             1.0         Urban  \n",
              "3             NaN         Urban  \n",
              "4             1.0         Urban  "
            ],
            "text/html": [
              "\n",
              "\n",
              "  <div id=\"df-333b560c-0293-4b33-b8b4-e7b04f60621d\">\n",
              "    <div class=\"colab-df-container\">\n",
              "      <div>\n",
              "<style scoped>\n",
              "    .dataframe tbody tr th:only-of-type {\n",
              "        vertical-align: middle;\n",
              "    }\n",
              "\n",
              "    .dataframe tbody tr th {\n",
              "        vertical-align: top;\n",
              "    }\n",
              "\n",
              "    .dataframe thead th {\n",
              "        text-align: right;\n",
              "    }\n",
              "</style>\n",
              "<table border=\"1\" class=\"dataframe\">\n",
              "  <thead>\n",
              "    <tr style=\"text-align: right;\">\n",
              "      <th></th>\n",
              "      <th>Loan_ID</th>\n",
              "      <th>Gender</th>\n",
              "      <th>Married</th>\n",
              "      <th>Dependents</th>\n",
              "      <th>Education</th>\n",
              "      <th>Self_Employed</th>\n",
              "      <th>ApplicantIncome</th>\n",
              "      <th>CoapplicantIncome</th>\n",
              "      <th>LoanAmount</th>\n",
              "      <th>Loan_Amount_Term</th>\n",
              "      <th>Credit_History</th>\n",
              "      <th>Property_Area</th>\n",
              "    </tr>\n",
              "  </thead>\n",
              "  <tbody>\n",
              "    <tr>\n",
              "      <th>0</th>\n",
              "      <td>LP001015</td>\n",
              "      <td>Male</td>\n",
              "      <td>Yes</td>\n",
              "      <td>0</td>\n",
              "      <td>Graduate</td>\n",
              "      <td>No</td>\n",
              "      <td>5720</td>\n",
              "      <td>0</td>\n",
              "      <td>110.0</td>\n",
              "      <td>360.0</td>\n",
              "      <td>1.0</td>\n",
              "      <td>Urban</td>\n",
              "    </tr>\n",
              "    <tr>\n",
              "      <th>1</th>\n",
              "      <td>LP001022</td>\n",
              "      <td>Male</td>\n",
              "      <td>Yes</td>\n",
              "      <td>1</td>\n",
              "      <td>Graduate</td>\n",
              "      <td>No</td>\n",
              "      <td>3076</td>\n",
              "      <td>1500</td>\n",
              "      <td>126.0</td>\n",
              "      <td>360.0</td>\n",
              "      <td>1.0</td>\n",
              "      <td>Urban</td>\n",
              "    </tr>\n",
              "    <tr>\n",
              "      <th>2</th>\n",
              "      <td>LP001031</td>\n",
              "      <td>Male</td>\n",
              "      <td>Yes</td>\n",
              "      <td>2</td>\n",
              "      <td>Graduate</td>\n",
              "      <td>No</td>\n",
              "      <td>5000</td>\n",
              "      <td>1800</td>\n",
              "      <td>208.0</td>\n",
              "      <td>360.0</td>\n",
              "      <td>1.0</td>\n",
              "      <td>Urban</td>\n",
              "    </tr>\n",
              "    <tr>\n",
              "      <th>3</th>\n",
              "      <td>LP001035</td>\n",
              "      <td>Male</td>\n",
              "      <td>Yes</td>\n",
              "      <td>2</td>\n",
              "      <td>Graduate</td>\n",
              "      <td>No</td>\n",
              "      <td>2340</td>\n",
              "      <td>2546</td>\n",
              "      <td>100.0</td>\n",
              "      <td>360.0</td>\n",
              "      <td>NaN</td>\n",
              "      <td>Urban</td>\n",
              "    </tr>\n",
              "    <tr>\n",
              "      <th>4</th>\n",
              "      <td>LP001051</td>\n",
              "      <td>Male</td>\n",
              "      <td>No</td>\n",
              "      <td>0</td>\n",
              "      <td>Not Graduate</td>\n",
              "      <td>No</td>\n",
              "      <td>3276</td>\n",
              "      <td>0</td>\n",
              "      <td>78.0</td>\n",
              "      <td>360.0</td>\n",
              "      <td>1.0</td>\n",
              "      <td>Urban</td>\n",
              "    </tr>\n",
              "  </tbody>\n",
              "</table>\n",
              "</div>\n",
              "      <button class=\"colab-df-convert\" onclick=\"convertToInteractive('df-333b560c-0293-4b33-b8b4-e7b04f60621d')\"\n",
              "              title=\"Convert this dataframe to an interactive table.\"\n",
              "              style=\"display:none;\">\n",
              "\n",
              "  <svg xmlns=\"http://www.w3.org/2000/svg\" height=\"24px\"viewBox=\"0 0 24 24\"\n",
              "       width=\"24px\">\n",
              "    <path d=\"M0 0h24v24H0V0z\" fill=\"none\"/>\n",
              "    <path d=\"M18.56 5.44l.94 2.06.94-2.06 2.06-.94-2.06-.94-.94-2.06-.94 2.06-2.06.94zm-11 1L8.5 8.5l.94-2.06 2.06-.94-2.06-.94L8.5 2.5l-.94 2.06-2.06.94zm10 10l.94 2.06.94-2.06 2.06-.94-2.06-.94-.94-2.06-.94 2.06-2.06.94z\"/><path d=\"M17.41 7.96l-1.37-1.37c-.4-.4-.92-.59-1.43-.59-.52 0-1.04.2-1.43.59L10.3 9.45l-7.72 7.72c-.78.78-.78 2.05 0 2.83L4 21.41c.39.39.9.59 1.41.59.51 0 1.02-.2 1.41-.59l7.78-7.78 2.81-2.81c.8-.78.8-2.07 0-2.86zM5.41 20L4 18.59l7.72-7.72 1.47 1.35L5.41 20z\"/>\n",
              "  </svg>\n",
              "      </button>\n",
              "\n",
              "\n",
              "\n",
              "    <div id=\"df-e0730dcd-ace0-41e5-8e3b-8554ac513903\">\n",
              "      <button class=\"colab-df-quickchart\" onclick=\"quickchart('df-e0730dcd-ace0-41e5-8e3b-8554ac513903')\"\n",
              "              title=\"Suggest charts.\"\n",
              "              style=\"display:none;\">\n",
              "\n",
              "<svg xmlns=\"http://www.w3.org/2000/svg\" height=\"24px\"viewBox=\"0 0 24 24\"\n",
              "     width=\"24px\">\n",
              "    <g>\n",
              "        <path d=\"M19 3H5c-1.1 0-2 .9-2 2v14c0 1.1.9 2 2 2h14c1.1 0 2-.9 2-2V5c0-1.1-.9-2-2-2zM9 17H7v-7h2v7zm4 0h-2V7h2v10zm4 0h-2v-4h2v4z\"/>\n",
              "    </g>\n",
              "</svg>\n",
              "      </button>\n",
              "    </div>\n",
              "\n",
              "<style>\n",
              "  .colab-df-quickchart {\n",
              "    background-color: #E8F0FE;\n",
              "    border: none;\n",
              "    border-radius: 50%;\n",
              "    cursor: pointer;\n",
              "    display: none;\n",
              "    fill: #1967D2;\n",
              "    height: 32px;\n",
              "    padding: 0 0 0 0;\n",
              "    width: 32px;\n",
              "  }\n",
              "\n",
              "  .colab-df-quickchart:hover {\n",
              "    background-color: #E2EBFA;\n",
              "    box-shadow: 0px 1px 2px rgba(60, 64, 67, 0.3), 0px 1px 3px 1px rgba(60, 64, 67, 0.15);\n",
              "    fill: #174EA6;\n",
              "  }\n",
              "\n",
              "  [theme=dark] .colab-df-quickchart {\n",
              "    background-color: #3B4455;\n",
              "    fill: #D2E3FC;\n",
              "  }\n",
              "\n",
              "  [theme=dark] .colab-df-quickchart:hover {\n",
              "    background-color: #434B5C;\n",
              "    box-shadow: 0px 1px 3px 1px rgba(0, 0, 0, 0.15);\n",
              "    filter: drop-shadow(0px 1px 2px rgba(0, 0, 0, 0.3));\n",
              "    fill: #FFFFFF;\n",
              "  }\n",
              "</style>\n",
              "\n",
              "    <script>\n",
              "      async function quickchart(key) {\n",
              "        const containerElement = document.querySelector('#' + key);\n",
              "        const charts = await google.colab.kernel.invokeFunction(\n",
              "            'suggestCharts', [key], {});\n",
              "      }\n",
              "    </script>\n",
              "\n",
              "      <script>\n",
              "\n",
              "function displayQuickchartButton(domScope) {\n",
              "  let quickchartButtonEl =\n",
              "    domScope.querySelector('#df-e0730dcd-ace0-41e5-8e3b-8554ac513903 button.colab-df-quickchart');\n",
              "  quickchartButtonEl.style.display =\n",
              "    google.colab.kernel.accessAllowed ? 'block' : 'none';\n",
              "}\n",
              "\n",
              "        displayQuickchartButton(document);\n",
              "      </script>\n",
              "      <style>\n",
              "    .colab-df-container {\n",
              "      display:flex;\n",
              "      flex-wrap:wrap;\n",
              "      gap: 12px;\n",
              "    }\n",
              "\n",
              "    .colab-df-convert {\n",
              "      background-color: #E8F0FE;\n",
              "      border: none;\n",
              "      border-radius: 50%;\n",
              "      cursor: pointer;\n",
              "      display: none;\n",
              "      fill: #1967D2;\n",
              "      height: 32px;\n",
              "      padding: 0 0 0 0;\n",
              "      width: 32px;\n",
              "    }\n",
              "\n",
              "    .colab-df-convert:hover {\n",
              "      background-color: #E2EBFA;\n",
              "      box-shadow: 0px 1px 2px rgba(60, 64, 67, 0.3), 0px 1px 3px 1px rgba(60, 64, 67, 0.15);\n",
              "      fill: #174EA6;\n",
              "    }\n",
              "\n",
              "    [theme=dark] .colab-df-convert {\n",
              "      background-color: #3B4455;\n",
              "      fill: #D2E3FC;\n",
              "    }\n",
              "\n",
              "    [theme=dark] .colab-df-convert:hover {\n",
              "      background-color: #434B5C;\n",
              "      box-shadow: 0px 1px 3px 1px rgba(0, 0, 0, 0.15);\n",
              "      filter: drop-shadow(0px 1px 2px rgba(0, 0, 0, 0.3));\n",
              "      fill: #FFFFFF;\n",
              "    }\n",
              "  </style>\n",
              "\n",
              "      <script>\n",
              "        const buttonEl =\n",
              "          document.querySelector('#df-333b560c-0293-4b33-b8b4-e7b04f60621d button.colab-df-convert');\n",
              "        buttonEl.style.display =\n",
              "          google.colab.kernel.accessAllowed ? 'block' : 'none';\n",
              "\n",
              "        async function convertToInteractive(key) {\n",
              "          const element = document.querySelector('#df-333b560c-0293-4b33-b8b4-e7b04f60621d');\n",
              "          const dataTable =\n",
              "            await google.colab.kernel.invokeFunction('convertToInteractive',\n",
              "                                                     [key], {});\n",
              "          if (!dataTable) return;\n",
              "\n",
              "          const docLinkHtml = 'Like what you see? Visit the ' +\n",
              "            '<a target=\"_blank\" href=https://colab.research.google.com/notebooks/data_table.ipynb>data table notebook</a>'\n",
              "            + ' to learn more about interactive tables.';\n",
              "          element.innerHTML = '';\n",
              "          dataTable['output_type'] = 'display_data';\n",
              "          await google.colab.output.renderOutput(dataTable, element);\n",
              "          const docLink = document.createElement('div');\n",
              "          docLink.innerHTML = docLinkHtml;\n",
              "          element.appendChild(docLink);\n",
              "        }\n",
              "      </script>\n",
              "    </div>\n",
              "  </div>\n"
            ]
          },
          "metadata": {},
          "execution_count": 495
        }
      ]
    },
    {
      "cell_type": "code",
      "source": [
        "testdata.shape"
      ],
      "metadata": {
        "colab": {
          "base_uri": "https://localhost:8080/"
        },
        "id": "Udd4vQxbTAdH",
        "outputId": "f49ac80f-a50a-42d2-b720-ae5d0917210c"
      },
      "execution_count": 496,
      "outputs": [
        {
          "output_type": "execute_result",
          "data": {
            "text/plain": [
              "(367, 12)"
            ]
          },
          "metadata": {},
          "execution_count": 496
        }
      ]
    },
    {
      "cell_type": "code",
      "source": [
        "testdata.info()"
      ],
      "metadata": {
        "colab": {
          "base_uri": "https://localhost:8080/"
        },
        "id": "Tf12OPP6T9ov",
        "outputId": "641ae919-a247-40e3-8569-c8d452f17c5c"
      },
      "execution_count": 497,
      "outputs": [
        {
          "output_type": "stream",
          "name": "stdout",
          "text": [
            "<class 'pandas.core.frame.DataFrame'>\n",
            "RangeIndex: 367 entries, 0 to 366\n",
            "Data columns (total 12 columns):\n",
            " #   Column             Non-Null Count  Dtype  \n",
            "---  ------             --------------  -----  \n",
            " 0   Loan_ID            367 non-null    object \n",
            " 1   Gender             356 non-null    object \n",
            " 2   Married            367 non-null    object \n",
            " 3   Dependents         357 non-null    object \n",
            " 4   Education          367 non-null    object \n",
            " 5   Self_Employed      344 non-null    object \n",
            " 6   ApplicantIncome    367 non-null    int64  \n",
            " 7   CoapplicantIncome  367 non-null    int64  \n",
            " 8   LoanAmount         362 non-null    float64\n",
            " 9   Loan_Amount_Term   361 non-null    float64\n",
            " 10  Credit_History     338 non-null    float64\n",
            " 11  Property_Area      367 non-null    object \n",
            "dtypes: float64(3), int64(2), object(7)\n",
            "memory usage: 34.5+ KB\n"
          ]
        }
      ]
    },
    {
      "cell_type": "code",
      "source": [
        "testdata.isnull().sum()"
      ],
      "metadata": {
        "colab": {
          "base_uri": "https://localhost:8080/"
        },
        "id": "flHp1ROOUJdE",
        "outputId": "7da40082-2e58-44a2-e174-498a7fbf675d"
      },
      "execution_count": 498,
      "outputs": [
        {
          "output_type": "execute_result",
          "data": {
            "text/plain": [
              "Loan_ID               0\n",
              "Gender               11\n",
              "Married               0\n",
              "Dependents           10\n",
              "Education             0\n",
              "Self_Employed        23\n",
              "ApplicantIncome       0\n",
              "CoapplicantIncome     0\n",
              "LoanAmount            5\n",
              "Loan_Amount_Term      6\n",
              "Credit_History       29\n",
              "Property_Area         0\n",
              "dtype: int64"
            ]
          },
          "metadata": {},
          "execution_count": 498
        }
      ]
    },
    {
      "cell_type": "code",
      "source": [
        "testdata[\"Gender\"].fillna(testdata[\"Gender\"].mode()[0],inplace=True)\n",
        "testdata[\"Dependents\"].fillna(testdata[\"Dependents\"].mode()[0],inplace=True)\n",
        "testdata[\"Self_Employed\"].fillna(testdata[\"Self_Employed\"].mode()[0],inplace=True)"
      ],
      "metadata": {
        "id": "llB0vf37UQYY"
      },
      "execution_count": 499,
      "outputs": []
    },
    {
      "cell_type": "code",
      "source": [
        "testdata.isnull().sum()"
      ],
      "metadata": {
        "colab": {
          "base_uri": "https://localhost:8080/"
        },
        "id": "NObC9t6xU0My",
        "outputId": "c15f85d8-5d93-40df-a91f-0b93e8dd3eb2"
      },
      "execution_count": 500,
      "outputs": [
        {
          "output_type": "execute_result",
          "data": {
            "text/plain": [
              "Loan_ID               0\n",
              "Gender                0\n",
              "Married               0\n",
              "Dependents            0\n",
              "Education             0\n",
              "Self_Employed         0\n",
              "ApplicantIncome       0\n",
              "CoapplicantIncome     0\n",
              "LoanAmount            5\n",
              "Loan_Amount_Term      6\n",
              "Credit_History       29\n",
              "Property_Area         0\n",
              "dtype: int64"
            ]
          },
          "metadata": {},
          "execution_count": 500
        }
      ]
    },
    {
      "cell_type": "code",
      "source": [
        "testdata.skew()"
      ],
      "metadata": {
        "colab": {
          "base_uri": "https://localhost:8080/"
        },
        "id": "r44lf8A0VTBm",
        "outputId": "4be07a55-fcb1-43d8-80b0-e208463acde7"
      },
      "execution_count": 501,
      "outputs": [
        {
          "output_type": "stream",
          "name": "stderr",
          "text": [
            "<ipython-input-501-a230c1f92899>:1: FutureWarning: The default value of numeric_only in DataFrame.skew is deprecated. In a future version, it will default to False. In addition, specifying 'numeric_only=None' is deprecated. Select only valid columns or specify the value of numeric_only to silence this warning.\n",
            "  testdata.skew()\n"
          ]
        },
        {
          "output_type": "execute_result",
          "data": {
            "text/plain": [
              "ApplicantIncome      8.441375\n",
              "CoapplicantIncome    4.257357\n",
              "LoanAmount           2.223512\n",
              "Loan_Amount_Term    -2.679318\n",
              "Credit_History      -1.722379\n",
              "dtype: float64"
            ]
          },
          "metadata": {},
          "execution_count": 501
        }
      ]
    },
    {
      "cell_type": "markdown",
      "source": [
        "***testdata is skewed-fill missing values with median***"
      ],
      "metadata": {
        "id": "PYFLrfIaVan-"
      }
    },
    {
      "cell_type": "code",
      "source": [
        "testdata[\"Loan_Amount_Term\"].fillna(testdata[\"Loan_Amount_Term\"].median(),inplace=True)\n",
        "testdata[\"LoanAmount\"].fillna(testdata[\"LoanAmount\"].median(),inplace=True)\n",
        "testdata[\"Credit_History\"].fillna(testdata[\"Credit_History\"].median(),inplace=True)"
      ],
      "metadata": {
        "id": "KufKYsjSVaJO"
      },
      "execution_count": 502,
      "outputs": []
    },
    {
      "cell_type": "code",
      "source": [
        "testdata.isnull().sum()"
      ],
      "metadata": {
        "colab": {
          "base_uri": "https://localhost:8080/"
        },
        "id": "SDKFkwtMWPby",
        "outputId": "aac11f05-256a-44d2-e94c-0ab541b6e5d0"
      },
      "execution_count": 503,
      "outputs": [
        {
          "output_type": "execute_result",
          "data": {
            "text/plain": [
              "Loan_ID              0\n",
              "Gender               0\n",
              "Married              0\n",
              "Dependents           0\n",
              "Education            0\n",
              "Self_Employed        0\n",
              "ApplicantIncome      0\n",
              "CoapplicantIncome    0\n",
              "LoanAmount           0\n",
              "Loan_Amount_Term     0\n",
              "Credit_History       0\n",
              "Property_Area        0\n",
              "dtype: int64"
            ]
          },
          "metadata": {},
          "execution_count": 503
        }
      ]
    },
    {
      "cell_type": "markdown",
      "source": [
        "**NORMALISATION AND VISUALISATION**"
      ],
      "metadata": {
        "id": "xMDpA2nEW1Mp"
      }
    },
    {
      "cell_type": "code",
      "source": [
        "testdata.boxplot(column='LoanAmount')"
      ],
      "metadata": {
        "colab": {
          "base_uri": "https://localhost:8080/",
          "height": 447
        },
        "id": "tGdhxcVwW5vl",
        "outputId": "d698d828-1ead-45c2-a5f2-e64eb0b08891"
      },
      "execution_count": 504,
      "outputs": [
        {
          "output_type": "execute_result",
          "data": {
            "text/plain": [
              "<Axes: >"
            ]
          },
          "metadata": {},
          "execution_count": 504
        },
        {
          "output_type": "display_data",
          "data": {
            "text/plain": [
              "<Figure size 640x480 with 1 Axes>"
            ],
            "image/png": "[encoded data removed]"
          },
          "metadata": {}
        }
      ]
    },
    {
      "cell_type": "code",
      "source": [
        "testdata[\"LoanAmount_log\"]=np.log(testdata[\"LoanAmount\"]) #Normalizing Loan Amount\n",
        "testdata[\"LoanAmount_log\"].hist(bins=20)"
      ],
      "metadata": {
        "colab": {
          "base_uri": "https://localhost:8080/",
          "height": 447
        },
        "id": "2UNhaoeCXJaR",
        "outputId": "67b9627d-c693-4eaf-db13-99a911030e9c"
      },
      "execution_count": 505,
      "outputs": [
        {
          "output_type": "execute_result",
          "data": {
            "text/plain": [
              "<Axes: >"
            ]
          },
          "metadata": {},
          "execution_count": 505
        },
        {
          "output_type": "display_data",
          "data": {
            "text/plain": [
              "<Figure size 640x480 with 1 Axes>"
            ],
            "image/png": "[encoded data removed]"
          },
          "metadata": {}
        }
      ]
    },
    {
      "cell_type": "code",
      "source": [
        "testdata[\"Total_income\"] = testdata[\"ApplicantIncome\"] + testdata[\"CoapplicantIncome\"]\n"
      ],
      "metadata": {
        "id": "l8jzCDwqX47U"
      },
      "execution_count": 506,
      "outputs": []
    },
    {
      "cell_type": "code",
      "source": [
        "testdata[\"Total_income_log\"] = np.log(testdata[\"Total_income\"]) #Normalizing Total income\n",
        "testdata[\"Total_income_log\"].hist(bins=20)"
      ],
      "metadata": {
        "colab": {
          "base_uri": "https://localhost:8080/",
          "height": 447
        },
        "id": "axb6baxUYMRt",
        "outputId": "7f42de6b-58e9-43c7-b43d-3b1e475b44b7"
      },
      "execution_count": 507,
      "outputs": [
        {
          "output_type": "execute_result",
          "data": {
            "text/plain": [
              "<Axes: >"
            ]
          },
          "metadata": {},
          "execution_count": 507
        },
        {
          "output_type": "display_data",
          "data": {
            "text/plain": [
              "<Figure size 640x480 with 1 Axes>"
            ],
            "image/png": "[encoded data removed]"
          },
          "metadata": {}
        }
      ]
    },
    {
      "cell_type": "code",
      "source": [
        "testdata.head()"
      ],
      "metadata": {
        "colab": {
          "base_uri": "https://localhost:8080/",
          "height": 287
        },
        "id": "LZ3_9UJUZTo9",
        "outputId": "9cb09662-63d9-4b46-8774-890e917d62cf"
      },
      "execution_count": 508,
      "outputs": [
        {
          "output_type": "execute_result",
          "data": {
            "text/plain": [
              "    Loan_ID Gender Married Dependents     Education Self_Employed  \\\n",
              "0  LP001015   Male     Yes          0      Graduate            No   \n",
              "1  LP001022   Male     Yes          1      Graduate            No   \n",
              "2  LP001031   Male     Yes          2      Graduate            No   \n",
              "3  LP001035   Male     Yes          2      Graduate            No   \n",
              "4  LP001051   Male      No          0  Not Graduate            No   \n",
              "\n",
              "   ApplicantIncome  CoapplicantIncome  LoanAmount  Loan_Amount_Term  \\\n",
              "0             5720                  0       110.0             360.0   \n",
              "1             3076               1500       126.0             360.0   \n",
              "2             5000               1800       208.0             360.0   \n",
              "3             2340               2546       100.0             360.0   \n",
              "4             3276                  0        78.0             360.0   \n",
              "\n",
              "   Credit_History Property_Area  LoanAmount_log  Total_income  \\\n",
              "0             1.0         Urban        4.700480          5720   \n",
              "1             1.0         Urban        4.836282          4576   \n",
              "2             1.0         Urban        5.337538          6800   \n",
              "3             1.0         Urban        4.605170          4886   \n",
              "4             1.0         Urban        4.356709          3276   \n",
              "\n",
              "   Total_income_log  \n",
              "0          8.651724  \n",
              "1          8.428581  \n",
              "2          8.824678  \n",
              "3          8.494129  \n",
              "4          8.094378  "
            ],
            "text/html": [
              "\n",
              "\n",
              "  <div id=\"df-6fe238c5-6a55-4a74-98f8-91e9986493c6\">\n",
              "    <div class=\"colab-df-container\">\n",
              "      <div>\n",
              "<style scoped>\n",
              "    .dataframe tbody tr th:only-of-type {\n",
              "        vertical-align: middle;\n",
              "    }\n",
              "\n",
              "    .dataframe tbody tr th {\n",
              "        vertical-align: top;\n",
              "    }\n",
              "\n",
              "    .dataframe thead th {\n",
              "        text-align: right;\n",
              "    }\n",
              "</style>\n",
              "<table border=\"1\" class=\"dataframe\">\n",
              "  <thead>\n",
              "    <tr style=\"text-align: right;\">\n",
              "      <th></th>\n",
              "      <th>Loan_ID</th>\n",
              "      <th>Gender</th>\n",
              "      <th>Married</th>\n",
              "      <th>Dependents</th>\n",
              "      <th>Education</th>\n",
              "      <th>Self_Employed</th>\n",
              "      <th>ApplicantIncome</th>\n",
              "      <th>CoapplicantIncome</th>\n",
              "      <th>LoanAmount</th>\n",
              "      <th>Loan_Amount_Term</th>\n",
              "      <th>Credit_History</th>\n",
              "      <th>Property_Area</th>\n",
              "      <th>LoanAmount_log</th>\n",
              "      <th>Total_income</th>\n",
              "      <th>Total_income_log</th>\n",
              "    </tr>\n",
              "  </thead>\n",
              "  <tbody>\n",
              "    <tr>\n",
              "      <th>0</th>\n",
              "      <td>LP001015</td>\n",
              "      <td>Male</td>\n",
              "      <td>Yes</td>\n",
              "      <td>0</td>\n",
              "      <td>Graduate</td>\n",
              "      <td>No</td>\n",
              "      <td>5720</td>\n",
              "      <td>0</td>\n",
              "      <td>110.0</td>\n",
              "      <td>360.0</td>\n",
              "      <td>1.0</td>\n",
              "      <td>Urban</td>\n",
              "      <td>4.700480</td>\n",
              "      <td>5720</td>\n",
              "      <td>8.651724</td>\n",
              "    </tr>\n",
              "    <tr>\n",
              "      <th>1</th>\n",
              "      <td>LP001022</td>\n",
              "      <td>Male</td>\n",
              "      <td>Yes</td>\n",
              "      <td>1</td>\n",
              "      <td>Graduate</td>\n",
              "      <td>No</td>\n",
              "      <td>3076</td>\n",
              "      <td>1500</td>\n",
              "      <td>126.0</td>\n",
              "      <td>360.0</td>\n",
              "      <td>1.0</td>\n",
              "      <td>Urban</td>\n",
              "      <td>4.836282</td>\n",
              "      <td>4576</td>\n",
              "      <td>8.428581</td>\n",
              "    </tr>\n",
              "    <tr>\n",
              "      <th>2</th>\n",
              "      <td>LP001031</td>\n",
              "      <td>Male</td>\n",
              "      <td>Yes</td>\n",
              "      <td>2</td>\n",
              "      <td>Graduate</td>\n",
              "      <td>No</td>\n",
              "      <td>5000</td>\n",
              "      <td>1800</td>\n",
              "      <td>208.0</td>\n",
              "      <td>360.0</td>\n",
              "      <td>1.0</td>\n",
              "      <td>Urban</td>\n",
              "      <td>5.337538</td>\n",
              "      <td>6800</td>\n",
              "      <td>8.824678</td>\n",
              "    </tr>\n",
              "    <tr>\n",
              "      <th>3</th>\n",
              "      <td>LP001035</td>\n",
              "      <td>Male</td>\n",
              "      <td>Yes</td>\n",
              "      <td>2</td>\n",
              "      <td>Graduate</td>\n",
              "      <td>No</td>\n",
              "      <td>2340</td>\n",
              "      <td>2546</td>\n",
              "      <td>100.0</td>\n",
              "      <td>360.0</td>\n",
              "      <td>1.0</td>\n",
              "      <td>Urban</td>\n",
              "      <td>4.605170</td>\n",
              "      <td>4886</td>\n",
              "      <td>8.494129</td>\n",
              "    </tr>\n",
              "    <tr>\n",
              "      <th>4</th>\n",
              "      <td>LP001051</td>\n",
              "      <td>Male</td>\n",
              "      <td>No</td>\n",
              "      <td>0</td>\n",
              "      <td>Not Graduate</td>\n",
              "      <td>No</td>\n",
              "      <td>3276</td>\n",
              "      <td>0</td>\n",
              "      <td>78.0</td>\n",
              "      <td>360.0</td>\n",
              "      <td>1.0</td>\n",
              "      <td>Urban</td>\n",
              "      <td>4.356709</td>\n",
              "      <td>3276</td>\n",
              "      <td>8.094378</td>\n",
              "    </tr>\n",
              "  </tbody>\n",
              "</table>\n",
              "</div>\n",
              "      <button class=\"colab-df-convert\" onclick=\"convertToInteractive('df-6fe238c5-6a55-4a74-98f8-91e9986493c6')\"\n",
              "              title=\"Convert this dataframe to an interactive table.\"\n",
              "              style=\"display:none;\">\n",
              "\n",
              "  <svg xmlns=\"http://www.w3.org/2000/svg\" height=\"24px\"viewBox=\"0 0 24 24\"\n",
              "       width=\"24px\">\n",
              "    <path d=\"M0 0h24v24H0V0z\" fill=\"none\"/>\n",
              "    <path d=\"M18.56 5.44l.94 2.06.94-2.06 2.06-.94-2.06-.94-.94-2.06-.94 2.06-2.06.94zm-11 1L8.5 8.5l.94-2.06 2.06-.94-2.06-.94L8.5 2.5l-.94 2.06-2.06.94zm10 10l.94 2.06.94-2.06 2.06-.94-2.06-.94-.94-2.06-.94 2.06-2.06.94z\"/><path d=\"M17.41 7.96l-1.37-1.37c-.4-.4-.92-.59-1.43-.59-.52 0-1.04.2-1.43.59L10.3 9.45l-7.72 7.72c-.78.78-.78 2.05 0 2.83L4 21.41c.39.39.9.59 1.41.59.51 0 1.02-.2 1.41-.59l7.78-7.78 2.81-2.81c.8-.78.8-2.07 0-2.86zM5.41 20L4 18.59l7.72-7.72 1.47 1.35L5.41 20z\"/>\n",
              "  </svg>\n",
              "      </button>\n",
              "\n",
              "\n",
              "\n",
              "    <div id=\"df-d3bed843-e950-4912-a3f3-ca011bdb0a39\">\n",
              "      <button class=\"colab-df-quickchart\" onclick=\"quickchart('df-d3bed843-e950-4912-a3f3-ca011bdb0a39')\"\n",
              "              title=\"Suggest charts.\"\n",
              "              style=\"display:none;\">\n",
              "\n",
              "<svg xmlns=\"http://www.w3.org/2000/svg\" height=\"24px\"viewBox=\"0 0 24 24\"\n",
              "     width=\"24px\">\n",
              "    <g>\n",
              "        <path d=\"M19 3H5c-1.1 0-2 .9-2 2v14c0 1.1.9 2 2 2h14c1.1 0 2-.9 2-2V5c0-1.1-.9-2-2-2zM9 17H7v-7h2v7zm4 0h-2V7h2v10zm4 0h-2v-4h2v4z\"/>\n",
              "    </g>\n",
              "</svg>\n",
              "      </button>\n",
              "    </div>\n",
              "\n",
              "<style>\n",
              "  .colab-df-quickchart {\n",
              "    background-color: #E8F0FE;\n",
              "    border: none;\n",
              "    border-radius: 50%;\n",
              "    cursor: pointer;\n",
              "    display: none;\n",
              "    fill: #1967D2;\n",
              "    height: 32px;\n",
              "    padding: 0 0 0 0;\n",
              "    width: 32px;\n",
              "  }\n",
              "\n",
              "  .colab-df-quickchart:hover {\n",
              "    background-color: #E2EBFA;\n",
              "    box-shadow: 0px 1px 2px rgba(60, 64, 67, 0.3), 0px 1px 3px 1px rgba(60, 64, 67, 0.15);\n",
              "    fill: #174EA6;\n",
              "  }\n",
              "\n",
              "  [theme=dark] .colab-df-quickchart {\n",
              "    background-color: #3B4455;\n",
              "    fill: #D2E3FC;\n",
              "  }\n",
              "\n",
              "  [theme=dark] .colab-df-quickchart:hover {\n",
              "    background-color: #434B5C;\n",
              "    box-shadow: 0px 1px 3px 1px rgba(0, 0, 0, 0.15);\n",
              "    filter: drop-shadow(0px 1px 2px rgba(0, 0, 0, 0.3));\n",
              "    fill: #FFFFFF;\n",
              "  }\n",
              "</style>\n",
              "\n",
              "    <script>\n",
              "      async function quickchart(key) {\n",
              "        const containerElement = document.querySelector('#' + key);\n",
              "        const charts = await google.colab.kernel.invokeFunction(\n",
              "            'suggestCharts', [key], {});\n",
              "      }\n",
              "    </script>\n",
              "\n",
              "      <script>\n",
              "\n",
              "function displayQuickchartButton(domScope) {\n",
              "  let quickchartButtonEl =\n",
              "    domScope.querySelector('#df-d3bed843-e950-4912-a3f3-ca011bdb0a39 button.colab-df-quickchart');\n",
              "  quickchartButtonEl.style.display =\n",
              "    google.colab.kernel.accessAllowed ? 'block' : 'none';\n",
              "}\n",
              "\n",
              "        displayQuickchartButton(document);\n",
              "      </script>\n",
              "      <style>\n",
              "    .colab-df-container {\n",
              "      display:flex;\n",
              "      flex-wrap:wrap;\n",
              "      gap: 12px;\n",
              "    }\n",
              "\n",
              "    .colab-df-convert {\n",
              "      background-color: #E8F0FE;\n",
              "      border: none;\n",
              "      border-radius: 50%;\n",
              "      cursor: pointer;\n",
              "      display: none;\n",
              "      fill: #1967D2;\n",
              "      height: 32px;\n",
              "      padding: 0 0 0 0;\n",
              "      width: 32px;\n",
              "    }\n",
              "\n",
              "    .colab-df-convert:hover {\n",
              "      background-color: #E2EBFA;\n",
              "      box-shadow: 0px 1px 2px rgba(60, 64, 67, 0.3), 0px 1px 3px 1px rgba(60, 64, 67, 0.15);\n",
              "      fill: #174EA6;\n",
              "    }\n",
              "\n",
              "    [theme=dark] .colab-df-convert {\n",
              "      background-color: #3B4455;\n",
              "      fill: #D2E3FC;\n",
              "    }\n",
              "\n",
              "    [theme=dark] .colab-df-convert:hover {\n",
              "      background-color: #434B5C;\n",
              "      box-shadow: 0px 1px 3px 1px rgba(0, 0, 0, 0.15);\n",
              "      filter: drop-shadow(0px 1px 2px rgba(0, 0, 0, 0.3));\n",
              "      fill: #FFFFFF;\n",
              "    }\n",
              "  </style>\n",
              "\n",
              "      <script>\n",
              "        const buttonEl =\n",
              "          document.querySelector('#df-6fe238c5-6a55-4a74-98f8-91e9986493c6 button.colab-df-convert');\n",
              "        buttonEl.style.display =\n",
              "          google.colab.kernel.accessAllowed ? 'block' : 'none';\n",
              "\n",
              "        async function convertToInteractive(key) {\n",
              "          const element = document.querySelector('#df-6fe238c5-6a55-4a74-98f8-91e9986493c6');\n",
              "          const dataTable =\n",
              "            await google.colab.kernel.invokeFunction('convertToInteractive',\n",
              "                                                     [key], {});\n",
              "          if (!dataTable) return;\n",
              "\n",
              "          const docLinkHtml = 'Like what you see? Visit the ' +\n",
              "            '<a target=\"_blank\" href=https://colab.research.google.com/notebooks/data_table.ipynb>data table notebook</a>'\n",
              "            + ' to learn more about interactive tables.';\n",
              "          element.innerHTML = '';\n",
              "          dataTable['output_type'] = 'display_data';\n",
              "          await google.colab.output.renderOutput(dataTable, element);\n",
              "          const docLink = document.createElement('div');\n",
              "          docLink.innerHTML = docLinkHtml;\n",
              "          element.appendChild(docLink);\n",
              "        }\n",
              "      </script>\n",
              "    </div>\n",
              "  </div>\n"
            ]
          },
          "metadata": {},
          "execution_count": 508
        }
      ]
    },
    {
      "cell_type": "code",
      "source": [
        "test = testdata.iloc[:,np.r_[1:5,9:11,13:15]].values\n",
        "test"
      ],
      "metadata": {
        "colab": {
          "base_uri": "https://localhost:8080/"
        },
        "id": "CZisvXNKZ4ia",
        "outputId": "28663b0b-c800-44cc-f8ae-d480c7c3a403"
      },
      "execution_count": 509,
      "outputs": [
        {
          "output_type": "execute_result",
          "data": {
            "text/plain": [
              "array([['Male', 'Yes', '0', ..., 1.0, 5720, 8.651724084373843],\n",
              "       ['Male', 'Yes', '1', ..., 1.0, 4576, 8.428580533059634],\n",
              "       ['Male', 'Yes', '2', ..., 1.0, 6800, 8.824677891164198],\n",
              "       ...,\n",
              "       ['Male', 'No', '0', ..., 1.0, 5243, 8.564649132572534],\n",
              "       ['Male', 'Yes', '0', ..., 1.0, 7393, 8.9082888855571],\n",
              "       ['Male', 'No', '0', ..., 1.0, 9200, 9.126958763037132]],\n",
              "      dtype=object)"
            ]
          },
          "metadata": {},
          "execution_count": 509
        }
      ]
    },
    {
      "cell_type": "code",
      "source": [
        "for i in range(0,5):\n",
        "  test[:,i]=labelencoder_x.fit_transform(test[:,i])"
      ],
      "metadata": {
        "id": "RqAcrYk3cjdn"
      },
      "execution_count": 510,
      "outputs": []
    },
    {
      "cell_type": "code",
      "source": [
        "test[:,7]=labelencoder_x.fit_transform(test[:,7])\n",
        "\n"
      ],
      "metadata": {
        "id": "wuEpLdehdS5c"
      },
      "execution_count": 511,
      "outputs": []
    },
    {
      "cell_type": "code",
      "source": [
        "test"
      ],
      "metadata": {
        "colab": {
          "base_uri": "https://localhost:8080/"
        },
        "id": "lrDiaIh1fBzx",
        "outputId": "175c3b64-4e91-4d5d-d88c-9412977986f4"
      },
      "execution_count": 512,
      "outputs": [
        {
          "output_type": "execute_result",
          "data": {
            "text/plain": [
              "array([[1, 1, 0, ..., 1.0, 5720, 207],\n",
              "       [1, 1, 1, ..., 1.0, 4576, 124],\n",
              "       [1, 1, 2, ..., 1.0, 6800, 251],\n",
              "       ...,\n",
              "       [1, 0, 0, ..., 1.0, 5243, 174],\n",
              "       [1, 1, 0, ..., 1.0, 7393, 268],\n",
              "       [1, 0, 0, ..., 1.0, 9200, 311]], dtype=object)"
            ]
          },
          "metadata": {},
          "execution_count": 512
        }
      ]
    },
    {
      "cell_type": "markdown",
      "source": [
        "**Scaling the testdata**"
      ],
      "metadata": {
        "id": "aDXDCfiFeghB"
      }
    },
    {
      "cell_type": "code",
      "source": [
        "test = ss.fit_transform(test)"
      ],
      "metadata": {
        "id": "MHXgrkCmefu1"
      },
      "execution_count": 513,
      "outputs": []
    },
    {
      "cell_type": "markdown",
      "source": [
        "# **PREDICTION**\n",
        "***Prediction is done using Naive Bayes Classifier because it showed the highest accuracy***"
      ],
      "metadata": {
        "id": "MSjpWqI6ivgj"
      }
    },
    {
      "cell_type": "code",
      "source": [
        "pred = NBClassifier.predict(test)"
      ],
      "metadata": {
        "id": "ppaMvvT4gZAL"
      },
      "execution_count": 514,
      "outputs": []
    },
    {
      "cell_type": "code",
      "source": [
        "pred"
      ],
      "metadata": {
        "colab": {
          "base_uri": "https://localhost:8080/"
        },
        "id": "T7r3ksOChAB0",
        "outputId": "4aee8190-a5f9-497d-8bff-e0dc24cf6fc0"
      },
      "execution_count": 515,
      "outputs": [
        {
          "output_type": "execute_result",
          "data": {
            "text/plain": [
              "array([1, 1, 1, 1, 1, 1, 1, 0, 1, 1, 1, 1, 1, 0, 1, 1, 1, 1, 1, 1, 1, 1,\n",
              "       1, 1, 1, 0, 1, 1, 1, 1, 1, 1, 1, 1, 1, 0, 1, 1, 1, 1, 1, 1, 1, 1,\n",
              "       1, 1, 1, 1, 1, 1, 1, 1, 1, 1, 1, 0, 1, 1, 0, 1, 1, 1, 1, 0, 1, 1,\n",
              "       0, 0, 1, 0, 1, 1, 1, 1, 1, 1, 1, 1, 1, 1, 0, 0, 0, 1, 0, 1, 1, 1,\n",
              "       1, 1, 1, 1, 1, 1, 0, 1, 1, 1, 1, 1, 1, 0, 1, 1, 1, 1, 0, 1, 1, 1,\n",
              "       1, 1, 1, 1, 1, 1, 1, 0, 0, 0, 1, 1, 1, 0, 0, 1, 0, 1, 1, 1, 1, 1,\n",
              "       1, 1, 1, 1, 1, 1, 1, 1, 0, 1, 0, 1, 1, 1, 1, 0, 1, 1, 1, 1, 1, 0,\n",
              "       1, 1, 1, 1, 1, 1, 1, 0, 1, 1, 1, 0, 0, 1, 0, 1, 1, 1, 1, 0, 0, 1,\n",
              "       1, 1, 1, 1, 1, 1, 1, 1, 1, 1, 1, 1, 1, 1, 1, 1, 0, 0, 1, 1, 0, 1,\n",
              "       0, 1, 1, 1, 1, 1, 1, 1, 1, 1, 1, 1, 1, 0, 1, 1, 1, 1, 1, 1, 1, 1,\n",
              "       1, 1, 1, 1, 0, 1, 1, 1, 1, 0, 1, 1, 1, 1, 1, 0, 0, 1, 1, 1, 1, 0,\n",
              "       1, 0, 1, 0, 1, 1, 1, 1, 0, 1, 1, 1, 1, 0, 1, 1, 1, 1, 1, 1, 1, 1,\n",
              "       1, 1, 0, 1, 0, 1, 1, 1, 1, 0, 0, 1, 1, 1, 0, 1, 1, 1, 1, 1, 1, 1,\n",
              "       1, 1, 1, 1, 1, 1, 1, 0, 1, 1, 1, 1, 1, 1, 1, 0, 1, 1, 1, 1, 1, 1,\n",
              "       1, 1, 1, 0, 1, 1, 1, 1, 1, 0, 1, 1, 1, 1, 1, 1, 1, 0, 1, 1, 1, 1,\n",
              "       1, 1, 1, 1, 1, 1, 1, 1, 1, 0, 1, 1, 1, 1, 1, 1, 0, 1, 1, 1, 1, 1,\n",
              "       1, 1, 0, 1, 1, 1, 1, 1, 1, 1, 1, 1, 1, 1, 1])"
            ]
          },
          "metadata": {},
          "execution_count": 515
        }
      ]
    }
  ]
}